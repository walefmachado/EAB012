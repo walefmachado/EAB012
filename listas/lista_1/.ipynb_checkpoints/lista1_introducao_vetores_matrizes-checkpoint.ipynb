{
 "cells": [
  {
   "cell_type": "markdown",
   "metadata": {},
   "source": [
    "# Lista 1 - Introdução ao Python"
   ]
  },
  {
   "cell_type": "code",
   "execution_count": 1,
   "metadata": {
    "collapsed": true
   },
   "outputs": [],
   "source": [
    "import numpy as np"
   ]
  },
  {
   "cell_type": "markdown",
   "metadata": {},
   "source": [
    "#### 1. Crie os seguintes vetores :"
   ]
  },
  {
   "cell_type": "markdown",
   "metadata": {},
   "source": [
    "**a) (1, 2, 3, . . ., 15)**"
   ]
  },
  {
   "cell_type": "code",
   "execution_count": 5,
   "metadata": {
    "collapsed": false
   },
   "outputs": [
    {
     "data": {
      "text/plain": [
       "array([ 1,  2,  3,  4,  5,  6,  7,  8,  9, 10, 11, 12, 13, 14, 15])"
      ]
     },
     "execution_count": 5,
     "metadata": {},
     "output_type": "execute_result"
    }
   ],
   "source": [
    "# R: seq(1,15,1)\n",
    "np.arange(1,16)"
   ]
  },
  {
   "cell_type": "markdown",
   "metadata": {},
   "source": [
    "**b) (15, 14, . . ., 1)**"
   ]
  },
  {
   "cell_type": "code",
   "execution_count": 8,
   "metadata": {
    "collapsed": false
   },
   "outputs": [
    {
     "data": {
      "text/plain": [
       "array([15, 14, 13, 12, 11, 10,  9,  8,  7,  6,  5,  4,  3,  2,  1])"
      ]
     },
     "execution_count": 8,
     "metadata": {},
     "output_type": "execute_result"
    }
   ],
   "source": [
    "# R: seq(15,1)\n",
    "np.arange(15,0,-1)"
   ]
  },
  {
   "cell_type": "markdown",
   "metadata": {},
   "source": [
    "**c) (1, 2, 3, . . . , 19, 20, 19, 18, . . . , 2, 1)**"
   ]
  },
  {
   "cell_type": "code",
   "execution_count": 3,
   "metadata": {
    "collapsed": false
   },
   "outputs": [
    {
     "data": {
      "text/plain": [
       "array([ 1,  2,  3,  4,  5,  6,  7,  8,  9, 10, 11, 12, 13, 14, 15, 16, 17,\n",
       "       18, 19, 19, 20, 19, 18, 17, 16, 15, 14, 13, 12, 11, 10,  9,  8,  7,\n",
       "        6,  5,  4,  3,  2,  1])"
      ]
     },
     "execution_count": 3,
     "metadata": {},
     "output_type": "execute_result"
    }
   ],
   "source": [
    "# R: c(seq(1,20),seq(19,1))\n",
    "a = np.arange(40)\n",
    "a[0:19] = np.arange(1,20)\n",
    "a[20:41] = np.arange(20,0,-1)\n",
    "a"
   ]
  },
  {
   "cell_type": "code",
   "execution_count": 79,
   "metadata": {
    "collapsed": false
   },
   "outputs": [
    {
     "data": {
      "text/plain": [
       "array([ 1,  2,  3,  4,  5,  6,  7,  8,  9, 10, 11, 12, 13, 14, 15, 16, 17,\n",
       "       18, 19, 20, 19, 18, 17, 16, 15, 14, 13, 12, 11, 10,  9,  8,  7,  6,\n",
       "        5,  4,  3,  2,  1])"
      ]
     },
     "execution_count": 79,
     "metadata": {},
     "output_type": "execute_result"
    }
   ],
   "source": [
    "# R: c(seq(1,20),seq(19,1))\n",
    "np.concatenate((np.arange(1,20),np.arange(20,0,-1)), axis=None)"
   ]
  },
  {
   "cell_type": "markdown",
   "metadata": {},
   "source": [
    "**d) (7, 8, 9) com o nome “a”**"
   ]
  },
  {
   "cell_type": "code",
   "execution_count": 34,
   "metadata": {
    "collapsed": false
   },
   "outputs": [
    {
     "data": {
      "text/plain": [
       "array([7, 8, 9])"
      ]
     },
     "execution_count": 34,
     "metadata": {},
     "output_type": "execute_result"
    }
   ],
   "source": [
    "# R: a = seq(7,9)\n",
    "a = np.arange(7,10,1)\n",
    "a"
   ]
  },
  {
   "cell_type": "markdown",
   "metadata": {},
   "source": [
    "**e) (7, 8, 9, 7, 8, 9, . . ., 7, 8, 9) em que haja 9 ocorrências do 7**"
   ]
  },
  {
   "cell_type": "code",
   "execution_count": 4,
   "metadata": {
    "collapsed": false
   },
   "outputs": [
    {
     "data": {
      "text/plain": [
       "array([7, 8, 9, 7, 8, 9, 7, 8, 9, 7, 8, 9, 7, 8, 9, 7, 8, 9, 7, 8, 9, 7, 8,\n",
       "       9])"
      ]
     },
     "execution_count": 4,
     "metadata": {},
     "output_type": "execute_result"
    }
   ],
   "source": [
    "# R: rep(c(7,8,9),7)\n",
    "np.tile(np.arange(7,10,1),8)"
   ]
  },
  {
   "cell_type": "markdown",
   "metadata": {},
   "source": [
    "**f) $(7, 8, 9, 7, 8, 9, . . ., 7, 8, 9, 7)$ em que haja 11 ocorrências do 7, 10 ocorrências do 8 e 10 ocorrências do 9**"
   ]
  },
  {
   "cell_type": "code",
   "execution_count": 5,
   "metadata": {
    "collapsed": false
   },
   "outputs": [
    {
     "data": {
      "text/plain": [
       "array([7, 7, 7, 7, 7, 7, 7, 7, 7, 7, 7, 8, 8, 8, 8, 8, 8, 8, 8, 8, 8, 9, 9,\n",
       "       9, 9, 9, 9, 9, 9, 9, 9])"
      ]
     },
     "execution_count": 5,
     "metadata": {},
     "output_type": "execute_result"
    }
   ],
   "source": [
    "# R: (a = c(rep(c(7,8,9),10),rep(c(8,9),10),rep(9,10)))\n",
    "np.concatenate((np.repeat(7,11),np.repeat(8,10),np.repeat(9,10)),axis=None)"
   ]
  },
  {
   "cell_type": "markdown",
   "metadata": {},
   "source": [
    "**g) $(7, 7, . . ., 7, 8, 8, . . ., 8, 9, 9, . . ., 9)$ em que haja 10 ocorrências do 7, 20 ocorrências do 8 e 30 ocorrências do 9**"
   ]
  },
  {
   "cell_type": "code",
   "execution_count": 6,
   "metadata": {
    "collapsed": false
   },
   "outputs": [
    {
     "data": {
      "text/plain": [
       "array([7, 7, 7, 7, 7, 7, 7, 7, 7, 7, 8, 8, 8, 8, 8, 8, 8, 8, 8, 8, 8, 8, 8,\n",
       "       8, 8, 8, 8, 8, 8, 8, 9, 9, 9, 9, 9, 9, 9, 9, 9, 9, 9, 9, 9, 9, 9, 9,\n",
       "       9, 9, 9, 9, 9, 9, 9, 9, 9, 9, 9, 9, 9, 9])"
      ]
     },
     "execution_count": 6,
     "metadata": {},
     "output_type": "execute_result"
    }
   ],
   "source": [
    "# R: (a =c(rep(7,10), rep(8,20), rep(9,30)))\n",
    "np.concatenate((np.repeat(7,10),np.repeat(8,20),np.repeat(9,30)),axis=None)"
   ]
  },
  {
   "cell_type": "markdown",
   "metadata": {},
   "source": [
    "#### 2. Crie um vetor dos valores de $e^{x}\\cos x$ em $x = 3; 3, 1; 3, 2; 3, 3; . . ., 6$"
   ]
  },
  {
   "cell_type": "code",
   "execution_count": 7,
   "metadata": {
    "collapsed": false
   },
   "outputs": [
    {
     "data": {
      "text/plain": [
       "array([-19.88453084, -22.17875339, -24.49069673, -26.77318244,\n",
       "       -28.96923777, -31.01118644, -32.81977476])"
      ]
     },
     "execution_count": 7,
     "metadata": {},
     "output_type": "execute_result"
    }
   ],
   "source": [
    "# R: exp(seq(3,3.6,0.1))*cos(seq(3,3.6,0.1))\n",
    "np.exp(np.arange(3.0,3.6,0.1)) * np.cos(np.arange(3.0,3.6,0.1))"
   ]
  },
  {
   "cell_type": "markdown",
   "metadata": {},
   "source": [
    "#### 3. Crie os seguintes vetores: "
   ]
  },
  {
   "cell_type": "markdown",
   "metadata": {},
   "source": [
    "**a) $(0, 1)^3 (0, 2)^1 , (0, 1)^6 (0, 2)^4 , . . ., (0, 1)^{36} (0, 2)^{34}$**"
   ]
  },
  {
   "cell_type": "code",
   "execution_count": 8,
   "metadata": {
    "collapsed": false
   },
   "outputs": [
    {
     "data": {
      "text/plain": [
       "array([  2.00000000e-04,   1.60000000e-09,   1.28000000e-14,\n",
       "         1.02400000e-19,   8.19200000e-25,   6.55360000e-30,\n",
       "         5.24288000e-35,   4.19430400e-40,   3.35544320e-45,\n",
       "         2.68435456e-50,   2.14748365e-55,   1.71798692e-60])"
      ]
     },
     "execution_count": 8,
     "metadata": {},
     "output_type": "execute_result"
    }
   ],
   "source": [
    "# R: (0.1)^seq(3,36,3)*(0.2)^seq(1,34,3)\n",
    "((0.1) ** (np.arange(3,37,3)))* ((0.2) ** (np.arange(1,35,3)))"
   ]
  },
  {
   "cell_type": "markdown",
   "metadata": {},
   "source": [
    "**b)** $(2, \\frac{2^2}{2},\\frac{2^3}{3},...,\\frac{2^{25}}{25})$"
   ]
  },
  {
   "cell_type": "code",
   "execution_count": 10,
   "metadata": {
    "collapsed": false
   },
   "outputs": [
    {
     "data": {
      "text/plain": [
       "array([  2.00000000e+00,   2.00000000e+00,   2.66666667e+00,\n",
       "         4.00000000e+00,   6.40000000e+00,   1.06666667e+01,\n",
       "         1.82857143e+01,   3.20000000e+01,   5.68888889e+01,\n",
       "         1.02400000e+02,   1.86181818e+02,   3.41333333e+02,\n",
       "         6.30153846e+02,   1.17028571e+03,   2.18453333e+03,\n",
       "         4.09600000e+03,   7.71011765e+03,   1.45635556e+04,\n",
       "         2.75941053e+04,   5.24288000e+04,   9.98643810e+04,\n",
       "         1.90650182e+05,   3.64722087e+05,   6.99050667e+05,\n",
       "         1.34217728e+06])"
      ]
     },
     "execution_count": 10,
     "metadata": {},
     "output_type": "execute_result"
    }
   ],
   "source": [
    "# R: (2^seq(1,25))/seq(1,25)\n",
    "(2 ** np.arange(1,26)) / np.arange(1,26)"
   ]
  },
  {
   "cell_type": "markdown",
   "metadata": {},
   "source": [
    "#### 4. Calcule"
   ]
  },
  {
   "cell_type": "markdown",
   "metadata": {},
   "source": [
    "** a)** $\\displaystyle\\sum^{100}_{i=10}(i^3+4i^2)$"
   ]
  },
  {
   "cell_type": "code",
   "execution_count": 11,
   "metadata": {
    "collapsed": false
   },
   "outputs": [
    {
     "data": {
      "text/plain": [
       "26855900"
      ]
     },
     "execution_count": 11,
     "metadata": {},
     "output_type": "execute_result"
    }
   ],
   "source": [
    "# R: sum(seq(1,100)^3 + 4*(seq(1,100))^2)\n",
    "np.sum((np.arange(1,101) ** 3) + (4 * (np.arange(1,101) ** 2)))"
   ]
  },
  {
   "cell_type": "markdown",
   "metadata": {},
   "source": [
    "**b)** $\\displaystyle\\sum^{25}_{i=10}(\\frac{2^i}{i}+\\frac{3^i}{i^2})$"
   ]
  },
  {
   "cell_type": "code",
   "execution_count": 12,
   "metadata": {
    "collapsed": false
   },
   "outputs": [
    {
     "data": {
      "text/plain": [
       "2129170436.8143802"
      ]
     },
     "execution_count": 12,
     "metadata": {},
     "output_type": "execute_result"
    }
   ],
   "source": [
    "# R: sum(((2^seq(1,25))/seq(1,25)) + (3^seq(1,25))/(seq(1,25))^2)\n",
    "np.sum(((2 ** np.arange(1,26)) / np.arange(1,26)) + (3 ** np.arange(1,26)) / np.arange(1,26) ** 2)"
   ]
  },
  {
   "cell_type": "markdown",
   "metadata": {},
   "source": [
    "#### 5. Use a função paste para criar os seguintes vetores de caracteres de tamanho 30:"
   ]
  },
  {
   "cell_type": "markdown",
   "metadata": {},
   "source": [
    "**a) $(“nome\\text{ }1”, “nome\\text{ }2”, . . ., “nome\\text{ }30”)$ Note que há apenas um espaço entre o nome e o número.**"
   ]
  },
  {
   "cell_type": "code",
   "execution_count": 77,
   "metadata": {
    "collapsed": false
   },
   "outputs": [
    {
     "name": "stdout",
     "output_type": "stream",
     "text": [
      "nome 1\n",
      "nome 2\n",
      "nome 3\n",
      "nome 4\n",
      "nome 5\n",
      "nome 6\n",
      "nome 7\n",
      "nome 8\n",
      "nome 9\n",
      "nome 10\n",
      "nome 11\n",
      "nome 12\n",
      "nome 13\n",
      "nome 14\n",
      "nome 15\n",
      "nome 16\n",
      "nome 17\n",
      "nome 18\n",
      "nome 19\n",
      "nome 20\n",
      "nome 21\n",
      "nome 22\n",
      "nome 23\n",
      "nome 24\n",
      "nome 25\n",
      "nome 26\n",
      "nome 27\n",
      "nome 28\n",
      "nome 29\n",
      "nome 30\n"
     ]
    }
   ],
   "source": [
    "# R: (nomes <- paste(\"nome\", 1:30))\n",
    "for i in range(1,31):\n",
    "    text = 'nome ' + str(i)\n",
    "    print(text) "
   ]
  },
  {
   "cell_type": "markdown",
   "metadata": {
    "collapsed": true
   },
   "source": [
    "**b) $(“f1”, “f2”, . . ., “f30”)$ Aqui não há espaço entre a letra e o número.**"
   ]
  },
  {
   "cell_type": "code",
   "execution_count": 72,
   "metadata": {
    "collapsed": false
   },
   "outputs": [
    {
     "name": "stdout",
     "output_type": "stream",
     "text": [
      "f1\n",
      "f2\n",
      "f3\n",
      "f4\n",
      "f5\n",
      "f6\n",
      "f7\n",
      "f8\n",
      "f9\n",
      "f10\n",
      "f11\n",
      "f12\n",
      "f13\n",
      "f14\n",
      "f15\n",
      "f16\n",
      "f17\n",
      "f18\n",
      "f19\n",
      "f20\n",
      "f21\n",
      "f22\n",
      "f23\n",
      "f24\n",
      "f25\n",
      "f26\n",
      "f27\n",
      "f28\n",
      "f29\n",
      "f30\n"
     ]
    },
    {
     "data": {
      "text/plain": [
       "str"
      ]
     },
     "execution_count": 72,
     "metadata": {},
     "output_type": "execute_result"
    }
   ],
   "source": [
    "# R: paste0(\"f\", 1:30)\n",
    "for i in range(1,31):\n",
    "    text = ('f' + str(i))\n",
    "    print(text)"
   ]
  },
  {
   "cell_type": "markdown",
   "metadata": {},
   "source": [
    "#### 6. Execute os seguintes comandos que criam dois vetores de inteiros aleatórios que são escolhidos com reposição entre 0 e 999. Ambos os vetores têm comprimento 250.    \n",
    "<br>\n",
    "   \n",
    "    set.seed(50)\n",
    "    x = sample(0:999, 250, replace=T)\n",
    "    y = sample(0:999, 250, replace=T)  \n",
    "#### Suponha que $x = [x 1 , . . . , x n ]$ e $y = [y 1 , . . . , y n ]$ denotem os vetores."
   ]
  },
  {
   "cell_type": "code",
   "execution_count": null,
   "metadata": {
    "collapsed": true
   },
   "outputs": [],
   "source": []
  },
  {
   "cell_type": "markdown",
   "metadata": {},
   "source": [
    "**a) Crie o vetor $(y_{2} − x_1 , . . . , y_{n} − x_{n−1} ) $**"
   ]
  },
  {
   "cell_type": "code",
   "execution_count": null,
   "metadata": {
    "collapsed": true
   },
   "outputs": [],
   "source": [
    "# R: y[seq(2,250)] - x[seq(1,249)]\n"
   ]
  },
  {
   "cell_type": "markdown",
   "metadata": {
    "collapsed": true
   },
   "source": [
    "** b) Crie o vetor $ \\big(\\frac{\\sin(y_1)}{\\cos(x_2}, \\frac{\\sin(y_2)}{\\cos(x_3},\\frac{\\sin(y_{n-1})}{\\cos(x_n} \\big)$**\n"
   ]
  },
  {
   "cell_type": "code",
   "execution_count": null,
   "metadata": {
    "collapsed": true
   },
   "outputs": [],
   "source": [
    "# R: (sin(y[seq(1,249)]))/(cos(x[seq(2,250)]))\n"
   ]
  },
  {
   "cell_type": "markdown",
   "metadata": {
    "collapsed": true
   },
   "source": [
    "**c) Crie o vetor $(x_1 + 2x_2 - x_3, x_2 +2x_3 +x_4,...,x_{n-2} + 2x_{n-1}-x_n)$**"
   ]
  },
  {
   "cell_type": "code",
   "execution_count": null,
   "metadata": {
    "collapsed": true
   },
   "outputs": [],
   "source": [
    "# R: x[seq(1,248)]+2*x[seq(2,249)]-x[seq(3,250)]\n"
   ]
  }
 ],
 "metadata": {
  "kernelspec": {
   "display_name": "Python [Root]",
   "language": "python",
   "name": "Python [Root]"
  },
  "language_info": {
   "codemirror_mode": {
    "name": "ipython",
    "version": 3
   },
   "file_extension": ".py",
   "mimetype": "text/x-python",
   "name": "python",
   "nbconvert_exporter": "python",
   "pygments_lexer": "ipython3",
   "version": "3.5.2"
  }
 },
 "nbformat": 4,
 "nbformat_minor": 2
}
