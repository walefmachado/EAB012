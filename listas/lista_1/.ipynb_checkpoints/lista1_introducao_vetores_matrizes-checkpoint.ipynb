{
 "cells": [
  {
   "cell_type": "markdown",
   "metadata": {},
   "source": [
    "# Lista 1 - Introdução ao Python"
   ]
  },
  {
   "cell_type": "code",
   "execution_count": 3,
   "metadata": {
    "collapsed": true
   },
   "outputs": [],
   "source": [
    "import numpy as np"
   ]
  },
  {
   "cell_type": "markdown",
   "metadata": {},
   "source": [
    "#### 1. Crie os seguintes vetores :"
   ]
  },
  {
   "cell_type": "markdown",
   "metadata": {},
   "source": [
    "**a) (1, 2, 3, . . ., 15)**"
   ]
  },
  {
   "cell_type": "code",
   "execution_count": 5,
   "metadata": {
    "collapsed": false
   },
   "outputs": [
    {
     "data": {
      "text/plain": [
       "array([ 1,  2,  3,  4,  5,  6,  7,  8,  9, 10, 11, 12, 13, 14, 15])"
      ]
     },
     "execution_count": 5,
     "metadata": {},
     "output_type": "execute_result"
    }
   ],
   "source": [
    "# R: seq(1,15,1)\n",
    "np.arange(1,16)"
   ]
  },
  {
   "cell_type": "markdown",
   "metadata": {},
   "source": [
    "**b) (15, 14, . . ., 1)**"
   ]
  },
  {
   "cell_type": "code",
   "execution_count": 8,
   "metadata": {
    "collapsed": false
   },
   "outputs": [
    {
     "data": {
      "text/plain": [
       "array([15, 14, 13, 12, 11, 10,  9,  8,  7,  6,  5,  4,  3,  2,  1])"
      ]
     },
     "execution_count": 8,
     "metadata": {},
     "output_type": "execute_result"
    }
   ],
   "source": [
    "# R: seq(15,1)\n",
    "np.arange(15,0,-1)"
   ]
  },
  {
   "cell_type": "markdown",
   "metadata": {},
   "source": [
    "**c) (1, 2, 3, . . . , 19, 20, 19, 18, . . . , 2, 1)**"
   ]
  },
  {
   "cell_type": "code",
   "execution_count": 3,
   "metadata": {
    "collapsed": false
   },
   "outputs": [
    {
     "data": {
      "text/plain": [
       "array([ 1,  2,  3,  4,  5,  6,  7,  8,  9, 10, 11, 12, 13, 14, 15, 16, 17,\n",
       "       18, 19, 19, 20, 19, 18, 17, 16, 15, 14, 13, 12, 11, 10,  9,  8,  7,\n",
       "        6,  5,  4,  3,  2,  1])"
      ]
     },
     "execution_count": 3,
     "metadata": {},
     "output_type": "execute_result"
    }
   ],
   "source": [
    "# R: c(seq(1,20),seq(19,1))\n",
    "a = np.arange(40)\n",
    "a[0:19] = np.arange(1,20)\n",
    "a[20:41] = np.arange(20,0,-1)\n",
    "a"
   ]
  },
  {
   "cell_type": "code",
   "execution_count": 79,
   "metadata": {
    "collapsed": false
   },
   "outputs": [
    {
     "data": {
      "text/plain": [
       "array([ 1,  2,  3,  4,  5,  6,  7,  8,  9, 10, 11, 12, 13, 14, 15, 16, 17,\n",
       "       18, 19, 20, 19, 18, 17, 16, 15, 14, 13, 12, 11, 10,  9,  8,  7,  6,\n",
       "        5,  4,  3,  2,  1])"
      ]
     },
     "execution_count": 79,
     "metadata": {},
     "output_type": "execute_result"
    }
   ],
   "source": [
    "# R: c(seq(1,20),seq(19,1))\n",
    "np.concatenate((np.arange(1,20),np.arange(20,0,-1)), axis=None)"
   ]
  },
  {
   "cell_type": "markdown",
   "metadata": {},
   "source": [
    "**d) (7, 8, 9) com o nome “a”**"
   ]
  },
  {
   "cell_type": "code",
   "execution_count": 34,
   "metadata": {
    "collapsed": false
   },
   "outputs": [
    {
     "data": {
      "text/plain": [
       "array([7, 8, 9])"
      ]
     },
     "execution_count": 34,
     "metadata": {},
     "output_type": "execute_result"
    }
   ],
   "source": [
    "# R: a = seq(7,9)\n",
    "a = np.arange(7,10,1)\n",
    "a"
   ]
  },
  {
   "cell_type": "markdown",
   "metadata": {},
   "source": [
    "**e) (7, 8, 9, 7, 8, 9, . . ., 7, 8, 9) em que haja 9 ocorrências do 7**"
   ]
  },
  {
   "cell_type": "code",
   "execution_count": 4,
   "metadata": {
    "collapsed": false
   },
   "outputs": [
    {
     "data": {
      "text/plain": [
       "array([7, 8, 9, 7, 8, 9, 7, 8, 9, 7, 8, 9, 7, 8, 9, 7, 8, 9, 7, 8, 9, 7, 8,\n",
       "       9])"
      ]
     },
     "execution_count": 4,
     "metadata": {},
     "output_type": "execute_result"
    }
   ],
   "source": [
    "# R: rep(c(7,8,9),7)\n",
    "np.tile(np.arange(7,10,1),8)"
   ]
  },
  {
   "cell_type": "markdown",
   "metadata": {},
   "source": [
    "**f) $(7, 8, 9, 7, 8, 9, . . ., 7, 8, 9, 7)$ em que haja 11 ocorrências do 7, 10 ocorrências do 8 e 10 ocorrências do 9**"
   ]
  },
  {
   "cell_type": "code",
   "execution_count": 5,
   "metadata": {
    "collapsed": false
   },
   "outputs": [
    {
     "data": {
      "text/plain": [
       "array([7, 7, 7, 7, 7, 7, 7, 7, 7, 7, 7, 8, 8, 8, 8, 8, 8, 8, 8, 8, 8, 9, 9,\n",
       "       9, 9, 9, 9, 9, 9, 9, 9])"
      ]
     },
     "execution_count": 5,
     "metadata": {},
     "output_type": "execute_result"
    }
   ],
   "source": [
    "# R: (a = c(rep(c(7,8,9),10),rep(c(8,9),10),rep(9,10)))\n",
    "np.concatenate((np.repeat(7,11),np.repeat(8,10),np.repeat(9,10)),axis=None)"
   ]
  },
  {
   "cell_type": "markdown",
   "metadata": {},
   "source": [
    "**g) $(7, 7, . . ., 7, 8, 8, . . ., 8, 9, 9, . . ., 9)$ em que haja 10 ocorrências do 7, 20 ocorrências do 8 e 30 ocorrências do 9**"
   ]
  },
  {
   "cell_type": "code",
   "execution_count": 6,
   "metadata": {
    "collapsed": false
   },
   "outputs": [
    {
     "data": {
      "text/plain": [
       "array([7, 7, 7, 7, 7, 7, 7, 7, 7, 7, 8, 8, 8, 8, 8, 8, 8, 8, 8, 8, 8, 8, 8,\n",
       "       8, 8, 8, 8, 8, 8, 8, 9, 9, 9, 9, 9, 9, 9, 9, 9, 9, 9, 9, 9, 9, 9, 9,\n",
       "       9, 9, 9, 9, 9, 9, 9, 9, 9, 9, 9, 9, 9, 9])"
      ]
     },
     "execution_count": 6,
     "metadata": {},
     "output_type": "execute_result"
    }
   ],
   "source": [
    "# R: (a =c(rep(7,10), rep(8,20), rep(9,30)))\n",
    "np.concatenate((np.repeat(7,10),np.repeat(8,20),np.repeat(9,30)),axis=None)"
   ]
  },
  {
   "cell_type": "markdown",
   "metadata": {},
   "source": [
    "#### 2. Crie um vetor dos valores de $e^{x}\\cos x$ em $x = 3; 3, 1; 3, 2; 3, 3; . . ., 6$"
   ]
  },
  {
   "cell_type": "code",
   "execution_count": 7,
   "metadata": {
    "collapsed": false
   },
   "outputs": [
    {
     "data": {
      "text/plain": [
       "array([-19.88453084, -22.17875339, -24.49069673, -26.77318244,\n",
       "       -28.96923777, -31.01118644, -32.81977476])"
      ]
     },
     "execution_count": 7,
     "metadata": {},
     "output_type": "execute_result"
    }
   ],
   "source": [
    "# R: exp(seq(3,3.6,0.1))*cos(seq(3,3.6,0.1))\n",
    "np.exp(np.arange(3.0,3.6,0.1)) * np.cos(np.arange(3.0,3.6,0.1))"
   ]
  },
  {
   "cell_type": "markdown",
   "metadata": {},
   "source": [
    "#### 3. Crie os seguintes vetores: "
   ]
  },
  {
   "cell_type": "markdown",
   "metadata": {},
   "source": [
    "**a) $(0, 1)^3 (0, 2)^1 , (0, 1)^6 (0, 2)^4 , . . ., (0, 1)^{36} (0, 2)^{34}$**"
   ]
  },
  {
   "cell_type": "code",
   "execution_count": 8,
   "metadata": {
    "collapsed": false
   },
   "outputs": [
    {
     "data": {
      "text/plain": [
       "array([  2.00000000e-04,   1.60000000e-09,   1.28000000e-14,\n",
       "         1.02400000e-19,   8.19200000e-25,   6.55360000e-30,\n",
       "         5.24288000e-35,   4.19430400e-40,   3.35544320e-45,\n",
       "         2.68435456e-50,   2.14748365e-55,   1.71798692e-60])"
      ]
     },
     "execution_count": 8,
     "metadata": {},
     "output_type": "execute_result"
    }
   ],
   "source": [
    "# R: (0.1)^seq(3,36,3)*(0.2)^seq(1,34,3)\n",
    "((0.1) ** (np.arange(3,37,3)))* ((0.2) ** (np.arange(1,35,3)))"
   ]
  },
  {
   "cell_type": "markdown",
   "metadata": {},
   "source": [
    "**b)** $(2, \\frac{2^2}{2},\\frac{2^3}{3},...,\\frac{2^{25}}{25})$"
   ]
  },
  {
   "cell_type": "code",
   "execution_count": 10,
   "metadata": {
    "collapsed": false
   },
   "outputs": [
    {
     "data": {
      "text/plain": [
       "array([  2.00000000e+00,   2.00000000e+00,   2.66666667e+00,\n",
       "         4.00000000e+00,   6.40000000e+00,   1.06666667e+01,\n",
       "         1.82857143e+01,   3.20000000e+01,   5.68888889e+01,\n",
       "         1.02400000e+02,   1.86181818e+02,   3.41333333e+02,\n",
       "         6.30153846e+02,   1.17028571e+03,   2.18453333e+03,\n",
       "         4.09600000e+03,   7.71011765e+03,   1.45635556e+04,\n",
       "         2.75941053e+04,   5.24288000e+04,   9.98643810e+04,\n",
       "         1.90650182e+05,   3.64722087e+05,   6.99050667e+05,\n",
       "         1.34217728e+06])"
      ]
     },
     "execution_count": 10,
     "metadata": {},
     "output_type": "execute_result"
    }
   ],
   "source": [
    "# R: (2^seq(1,25))/seq(1,25)\n",
    "(2 ** np.arange(1,26)) / np.arange(1,26)"
   ]
  },
  {
   "cell_type": "markdown",
   "metadata": {},
   "source": [
    "#### 4. Calcule"
   ]
  },
  {
   "cell_type": "markdown",
   "metadata": {},
   "source": [
    "** a)** $\\displaystyle\\sum^{100}_{i=10}(i^3+4i^2)$"
   ]
  },
  {
   "cell_type": "code",
   "execution_count": 11,
   "metadata": {
    "collapsed": false
   },
   "outputs": [
    {
     "data": {
      "text/plain": [
       "26855900"
      ]
     },
     "execution_count": 11,
     "metadata": {},
     "output_type": "execute_result"
    }
   ],
   "source": [
    "# R: sum(seq(1,100)^3 + 4*(seq(1,100))^2)\n",
    "np.sum((np.arange(1,101) ** 3) + (4 * (np.arange(1,101) ** 2)))"
   ]
  },
  {
   "cell_type": "markdown",
   "metadata": {},
   "source": [
    "**b)** $\\displaystyle\\sum^{25}_{i=10}(\\frac{2^i}{i}+\\frac{3^i}{i^2})$"
   ]
  },
  {
   "cell_type": "code",
   "execution_count": 12,
   "metadata": {
    "collapsed": false
   },
   "outputs": [
    {
     "data": {
      "text/plain": [
       "2129170436.8143802"
      ]
     },
     "execution_count": 12,
     "metadata": {},
     "output_type": "execute_result"
    }
   ],
   "source": [
    "# R: sum(((2^seq(1,25))/seq(1,25)) + (3^seq(1,25))/(seq(1,25))^2)\n",
    "np.sum(((2 ** np.arange(1,26)) / np.arange(1,26)) + (3 ** np.arange(1,26)) / np.arange(1,26) ** 2)"
   ]
  },
  {
   "cell_type": "markdown",
   "metadata": {},
   "source": [
    "#### 5. Use a função paste para criar os seguintes vetores de caracteres de tamanho 30:"
   ]
  },
  {
   "cell_type": "markdown",
   "metadata": {},
   "source": [
    "**a) $(“nome\\text{ }1”, “nome\\text{ }2”, . . ., “nome\\text{ }30”)$ Note que há apenas um espaço entre o nome e o número.**"
   ]
  },
  {
   "cell_type": "code",
   "execution_count": 77,
   "metadata": {
    "collapsed": false
   },
   "outputs": [
    {
     "name": "stdout",
     "output_type": "stream",
     "text": [
      "nome 1\n",
      "nome 2\n",
      "nome 3\n",
      "nome 4\n",
      "nome 5\n",
      "nome 6\n",
      "nome 7\n",
      "nome 8\n",
      "nome 9\n",
      "nome 10\n",
      "nome 11\n",
      "nome 12\n",
      "nome 13\n",
      "nome 14\n",
      "nome 15\n",
      "nome 16\n",
      "nome 17\n",
      "nome 18\n",
      "nome 19\n",
      "nome 20\n",
      "nome 21\n",
      "nome 22\n",
      "nome 23\n",
      "nome 24\n",
      "nome 25\n",
      "nome 26\n",
      "nome 27\n",
      "nome 28\n",
      "nome 29\n",
      "nome 30\n"
     ]
    }
   ],
   "source": [
    "# R: (nomes <- paste(\"nome\", 1:30))\n",
    "for i in range(1,31):\n",
    "    text = 'nome ' + str(i)\n",
    "    print(text) "
   ]
  },
  {
   "cell_type": "markdown",
   "metadata": {
    "collapsed": true
   },
   "source": [
    "**b) $(“f1”, “f2”, . . ., “f30”)$ Aqui não há espaço entre a letra e o número.**"
   ]
  },
  {
   "cell_type": "code",
   "execution_count": 72,
   "metadata": {
    "collapsed": false
   },
   "outputs": [
    {
     "name": "stdout",
     "output_type": "stream",
     "text": [
      "f1\n",
      "f2\n",
      "f3\n",
      "f4\n",
      "f5\n",
      "f6\n",
      "f7\n",
      "f8\n",
      "f9\n",
      "f10\n",
      "f11\n",
      "f12\n",
      "f13\n",
      "f14\n",
      "f15\n",
      "f16\n",
      "f17\n",
      "f18\n",
      "f19\n",
      "f20\n",
      "f21\n",
      "f22\n",
      "f23\n",
      "f24\n",
      "f25\n",
      "f26\n",
      "f27\n",
      "f28\n",
      "f29\n",
      "f30\n"
     ]
    },
    {
     "data": {
      "text/plain": [
       "str"
      ]
     },
     "execution_count": 72,
     "metadata": {},
     "output_type": "execute_result"
    }
   ],
   "source": [
    "# R: paste0(\"f\", 1:30)\n",
    "for i in range(1,31):\n",
    "    text = ('f' + str(i))\n",
    "    print(text)"
   ]
  },
  {
   "cell_type": "markdown",
   "metadata": {},
   "source": [
    "#### 6. Execute os seguintes comandos que criam dois vetores de inteiros aleatórios que são escolhidos com reposição entre 0 e 999. Ambos os vetores têm comprimento 250.    \n",
    "<br>\n",
    "   \n",
    "    set.seed(50)\n",
    "    x = sample(0:999, 250, replace=T)\n",
    "    y = sample(0:999, 250, replace=T)  \n",
    "#### Suponha que $x = [x 1 , . . . , x n ]$ e $y = [y 1 , . . . , y n ]$ denotem os vetores."
   ]
  },
  {
   "cell_type": "code",
   "execution_count": 4,
   "metadata": {
    "collapsed": false
   },
   "outputs": [],
   "source": [
    "x = np.random.uniform(low=0, high=999, size=250).round(2)\n",
    "y = np.random.uniform(low=0, high=999, size=250).round(2)"
   ]
  },
  {
   "cell_type": "code",
   "execution_count": 132,
   "metadata": {
    "collapsed": false
   },
   "outputs": [
    {
     "data": {
      "text/plain": [
       "(250,)"
      ]
     },
     "execution_count": 132,
     "metadata": {},
     "output_type": "execute_result"
    }
   ],
   "source": [
    "x.shape"
   ]
  },
  {
   "cell_type": "markdown",
   "metadata": {},
   "source": [
    "**a) Crie o vetor $(y_{2} − x_1 , . . . , y_{n} − x_{n−1} ) $**"
   ]
  },
  {
   "cell_type": "code",
   "execution_count": 171,
   "metadata": {
    "collapsed": false
   },
   "outputs": [
    {
     "data": {
      "text/plain": [
       "array([-665.36, -301.58,  391.34,  -51.9 , -545.69, -216.95,  306.85,\n",
       "       -278.26,  833.13,  387.8 ,  672.85, -730.28,  727.94,  352.36,\n",
       "       -801.19, -170.06,  140.52,  -28.12,  109.85,  448.02,  711.67,\n",
       "        479.83,  -82.03,  694.32, -420.75,  167.67,  100.45,  -45.13,\n",
       "       -399.83,  491.79,  330.86,  -69.26,  801.08,  401.7 ,  911.09,\n",
       "        174.07,  546.6 ,   44.49,  299.88,  -87.02, -845.41, -928.58,\n",
       "       -228.96, -532.11, -346.83,  218.4 ,  229.14, -566.77,  304.85,\n",
       "       -433.66])"
      ]
     },
     "execution_count": 171,
     "metadata": {},
     "output_type": "execute_result"
    }
   ],
   "source": [
    "# R: y[seq(2,250)] - x[seq(1,249)]\n",
    "s = (y[np.arange(1,249)]) - (x[np.arange(0,248)])\n",
    "s[0:50]"
   ]
  },
  {
   "cell_type": "markdown",
   "metadata": {
    "collapsed": true
   },
   "source": [
    "** b) Crie o vetor $ \\big(\\frac{\\sin(y_1)}{\\cos(x_2}, \\frac{\\sin(y_2)}{\\cos(x_3},\\frac{\\sin(y_{n-1})}{\\cos(x_n)} \\big)$**\n"
   ]
  },
  {
   "cell_type": "code",
   "execution_count": 164,
   "metadata": {
    "collapsed": false
   },
   "outputs": [
    {
     "data": {
      "text/plain": [
       "array([  1.92309307e-02,  -5.50721365e-01,  -3.18573332e+00,\n",
       "        -1.03522302e+00,  -3.02696146e-01,   1.93813467e+00,\n",
       "         1.55034672e+00,  -2.43201896e+00,  -3.82267422e+00,\n",
       "        -2.05367364e+00,   4.61840357e-01,   7.01526538e-01,\n",
       "        -7.05611082e-01,   5.56276613e-01,   1.69272683e-02,\n",
       "         1.48330531e-01,   4.40321184e+00,  -9.14304834e+01,\n",
       "        -1.04888101e+00,  -4.30173068e+00,   1.36972623e+00,\n",
       "         1.49825895e-01,  -1.19642170e-01,   9.75418104e-01,\n",
       "         1.18366420e+00,  -5.12182393e-01,   9.54012107e-01,\n",
       "        -1.99056770e+00,   8.61244532e-01,   8.37852388e+00,\n",
       "        -9.08204324e-01,   1.45458497e+00,   1.05576728e+00,\n",
       "         1.29374310e+00,  -1.07543431e+00,  -7.29229026e-01,\n",
       "        -3.29352343e-01,  -4.63309263e-01,  -2.76804859e-01,\n",
       "         6.86337026e-01,   5.07484333e-01,   4.53414138e+00,\n",
       "         6.85106277e-01,  -4.04392930e+00,   3.26226763e+00,\n",
       "         2.44426019e-01,   3.97076040e+00,  -9.23594281e-01,\n",
       "         3.21106612e-01,  -5.87490919e-01])"
      ]
     },
     "execution_count": 164,
     "metadata": {},
     "output_type": "execute_result"
    }
   ],
   "source": [
    "# R: (sin(y[seq(1,249)]))/(cos(x[seq(2,250)]))\n",
    "s = (np.sin(y[np.arange(0,249)])) / (np.cos(x[np.arange(1,250)]))\n",
    "s[0:50]"
   ]
  },
  {
   "cell_type": "markdown",
   "metadata": {
    "collapsed": true
   },
   "source": [
    "**c) Crie o vetor $(x_1 + 2x_2 - x_3, x_2 +2x_3 +x_4,...,x_{n-2} + 2x_{n-1}-x_n)$**"
   ]
  },
  {
   "cell_type": "code",
   "execution_count": 9,
   "metadata": {
    "collapsed": false
   },
   "outputs": [
    {
     "data": {
      "text/plain": [
       "array([ 2194.59,   396.81,  1524.01,  1662.12,   277.16,  -141.73,\n",
       "         939.92,  1451.92,  1374.35,  -331.41,  1327.  ,   708.79,\n",
       "        1814.21,   776.41,   442.67,   612.91,  1219.97,  1711.91,\n",
       "        1047.83,  2506.04,   925.39,   420.39,  -100.85,  1950.25,\n",
       "         832.48,  -192.68,    14.43,  1829.41,  1366.63,  1172.1 ,\n",
       "        1840.42,  2356.65,  1559.49,   476.87,  1277.47,   659.37,\n",
       "        1055.37,  2368.09,  1179.77,   395.04,  1281.64,   317.9 ,\n",
       "         528.75,  2402.56,  1117.87,  -230.75,  1526.79,  1177.16,\n",
       "        1234.22,  2391.44])"
      ]
     },
     "execution_count": 9,
     "metadata": {},
     "output_type": "execute_result"
    }
   ],
   "source": [
    "# R: x[seq(1,248)]+2*x[seq(2,249)]-x[seq(3,250)]\n",
    "s = (x[np.arange(0,248)]) +  (2 * x[np.arange(1,249)]) - (x[np.arange(2,250)])\n",
    "s[0:50]"
   ]
  },
  {
   "cell_type": "markdown",
   "metadata": {
    "collapsed": true
   },
   "source": [
    "#### 7. Essa questão usa os vetores $x$ e $y$ criados na questão anterior e as funções `sort`, `order`, `mean`, `sqrt`, `sum` e `abs`.  "
   ]
  },
  {
   "cell_type": "markdown",
   "metadata": {
    "collapsed": true
   },
   "source": [
    "**a) Selecione os valores de y que são maiores do que 600.**"
   ]
  },
  {
   "cell_type": "code",
   "execution_count": 11,
   "metadata": {
    "collapsed": false
   },
   "outputs": [
    {
     "data": {
      "text/plain": [
       "array([ 239.69,  473.42,  853.92,  827.81,  324.18,  130.13,  484.19,\n",
       "        473.41,  217.76,  989.42,  755.6 ,  802.63,  742.37,  520.3 ,\n",
       "        405.74,  782.74,  461.01,  292.92,  380.66,  846.18,  571.2 ,\n",
       "         68.79,  320.51,   26.45,  963.01,  295.12,  998.11,  433.07,\n",
       "        581.67,  693.24,  287.97,  798.54,   56.58,  562.8 ,  219.6 ,\n",
       "        770.41,  558.02,  154.69,  789.54,  621.32,  652.59,  125.93,\n",
       "        616.63,  893.35,  149.55,  331.14,  667.79,  174.18,  548.95,\n",
       "        352.38,  258.79,  148.74,  772.09,   87.02,  327.97,  375.64,\n",
       "        599.73,   89.33,  336.28,   26.26,  760.32,  501.85,  966.49,\n",
       "        469.59,  777.91,  192.79,  802.15,  177.09,  949.06,  177.36,\n",
       "        966.16,  230.78,  476.41,  848.5 ,  993.88,  769.58,  439.63,\n",
       "        488.82,  447.98,  357.82,  297.69,  294.39,   57.86,  833.85,\n",
       "        428.02,  495.87,   46.41,  982.95,  825.77,  998.47,  573.47,\n",
       "        325.7 ,   21.52,  898.73,  924.44,  634.96,  914.29,  799.76,\n",
       "        946.94,  420.58,  883.21,  917.56,  348.38,  130.31,  430.59,\n",
       "        313.28,  311.9 ,  959.22,  559.44,  407.67,  486.3 ,  175.99,\n",
       "        106.18,  329.68,  644.05,  345.64,  638.44,  106.55,  366.93,\n",
       "         93.07,  189.51,  626.73,  215.6 ,  850.67,  398.89,  941.13,\n",
       "        245.93,  301.8 ,  319.79,  854.72,  587.75,  332.84,  485.28,\n",
       "        639.18,  306.73,  136.3 ,  426.77,  108.88,  489.92,  920.39,\n",
       "        217.6 ,  297.24,  682.25,  128.64,  726.64,  261.21,  596.58,\n",
       "        583.62,  637.23,    6.24,  924.16,  224.54,  175.56,  494.21,\n",
       "        818.28,  158.89,  998.48,  193.15,  322.85,  821.97,  856.29,\n",
       "        528.17,  452.04,  969.  ,  884.11,  700.72,  550.26,   95.91,\n",
       "        911.6 ,  394.05,   86.14,  706.01,  723.92,  859.19,  659.58,\n",
       "        459.08,  853.38,   78.35,  369.89,  160.86,  733.82,  195.7 ,\n",
       "        375.34,  886.03,  154.99,  346.39,  612.01,  496.35,  945.45,\n",
       "        890.95,  254.3 ,  134.3 ,  819.6 ,  239.97,  160.37,  875.09,\n",
       "        539.3 ,  986.67,  107.81,  407.97,  463.72,  478.93,   70.54,\n",
       "        170.21,  324.24,  831.44,  170.31,  703.71,  390.2 ,  510.05,\n",
       "        830.62,  101.04,  269.26,  476.75,  217.3 ,  425.53,  894.21,\n",
       "        690.42,  991.56,  308.5 ,  724.14,  673.96,  793.43,   40.86,\n",
       "         62.29,  347.74,  890.19,  511.23,  638.78,  945.23,  767.95,\n",
       "        903.43,  319.68,  823.49,  352.68,  843.2 ,   78.18,  602.43,\n",
       "        532.43,  318.65,  990.74,  824.18,  327.64,   40.8 ,  398.37,\n",
       "        874.1 ,  601.36,  559.3 ,  288.48,  267.03])"
      ]
     },
     "execution_count": 11,
     "metadata": {},
     "output_type": "execute_result"
    }
   ],
   "source": [
    "# R: sort(y)[which(((sort(y))>600)==TRUE)]"
   ]
  },
  {
   "cell_type": "markdown",
   "metadata": {
    "collapsed": true
   },
   "source": [
    "**b) Quais são as posições correspondentes aos valores em y que são maiores do que 600?** "
   ]
  },
  {
   "cell_type": "code",
   "execution_count": null,
   "metadata": {
    "collapsed": true
   },
   "outputs": [],
   "source": [
    "# R: which((y>600)==TRUE)"
   ]
  },
  {
   "cell_type": "markdown",
   "metadata": {
    "collapsed": true
   },
   "source": [
    "**c) Quais são os valores em x que correspondem aos valores em y que são maiores do que 600? (corresponder quer dizer que estão nas mesmas posições).**"
   ]
  },
  {
   "cell_type": "code",
   "execution_count": null,
   "metadata": {
    "collapsed": true
   },
   "outputs": [],
   "source": [
    "# R: which((y>600)==TRUE & (x>600)==TRUE)"
   ]
  },
  {
   "cell_type": "markdown",
   "metadata": {
    "collapsed": true
   },
   "source": [
    "**d) Crie o vetor $(|x_1-\\overline x|^{1/2}, |x_2-\\overline x|^{1/2},...,|x_n-\\overline x|^{1/2}) $ em que x̄ denota a média dos valores de x.**"
   ]
  },
  {
   "cell_type": "code",
   "execution_count": null,
   "metadata": {
    "collapsed": true
   },
   "outputs": [],
   "source": [
    "# R: head(sqrt(abs(x[seq(1,250)]-mean(x))))"
   ]
  },
  {
   "cell_type": "markdown",
   "metadata": {
    "collapsed": true
   },
   "source": [
    "**e) Quantos valores em y estão entre o valor máximo de y e esse valor menos 200?**"
   ]
  },
  {
   "cell_type": "code",
   "execution_count": null,
   "metadata": {
    "collapsed": true
   },
   "outputs": [],
   "source": [
    "# R: length(sort(y)[which(((sort(y))>(sort(y)[250]-200))==TRUE)])"
   ]
  },
  {
   "cell_type": "markdown",
   "metadata": {},
   "source": [
    "**f) Quantos números em x são divisı́veis por 2? (O operador de resto da divisão é denotado por %%).**"
   ]
  },
  {
   "cell_type": "code",
   "execution_count": null,
   "metadata": {
    "collapsed": true
   },
   "outputs": [],
   "source": [
    "# R: length(which((x%%2==0)==TRUE))"
   ]
  },
  {
   "cell_type": "markdown",
   "metadata": {},
   "source": [
    "**g) Ordene os números do vetor x na ordem crescente dos valores em y.**"
   ]
  },
  {
   "cell_type": "code",
   "execution_count": null,
   "metadata": {
    "collapsed": true
   },
   "outputs": [],
   "source": [
    "# R: head(x[order(x)])"
   ]
  },
  {
   "cell_type": "markdown",
   "metadata": {},
   "source": [
    "**h) Selecione os elementos em y das posições 1, 4, 7, 10, 13 etc.**"
   ]
  },
  {
   "cell_type": "code",
   "execution_count": 10,
   "metadata": {
    "collapsed": true
   },
   "outputs": [],
   "source": [
    "# R: y[seq(1,250,3)]"
   ]
  },
  {
   "cell_type": "markdown",
   "metadata": {},
   "source": [
    "#### 8. Seja a matriz:  \n",
    "\n",
    "$$A = \\begin{bmatrix} 1 & 1 & 3  \\\\ 5 & 2 & 6 \\\\ -2 & -1 & -3\\end{bmatrix} $$"
   ]
  },
  {
   "cell_type": "code",
   "execution_count": null,
   "metadata": {
    "collapsed": true
   },
   "outputs": [],
   "source": [
    "# R: A = matrix(c(1, 5, -2, 1, 2, -1, 3, 6, -3), 3, 3)"
   ]
  },
  {
   "cell_type": "markdown",
   "metadata": {},
   "source": [
    "**a) Verifique que $A^3 = 0$, em que $0$ é uma matriz de zeros $3 × 3$.**"
   ]
  },
  {
   "cell_type": "code",
   "execution_count": null,
   "metadata": {
    "collapsed": true
   },
   "outputs": [],
   "source": [
    "# R: (A%*%A)%*%A"
   ]
  },
  {
   "cell_type": "markdown",
   "metadata": {},
   "source": [
    "**b) Substitua a terceira coluna de $A$ pela soma das segunda e terceira colunas.**"
   ]
  },
  {
   "cell_type": "code",
   "execution_count": null,
   "metadata": {
    "collapsed": true
   },
   "outputs": [],
   "source": [
    "# R: A[,3] = apply((A[,2:3]), 1, sum)"
   ]
  },
  {
   "cell_type": "markdown",
   "metadata": {},
   "source": [
    "#### 9. Crie a seguinte matriz $B$ com 15 linhas:  \n",
    "$$A = \\begin{bmatrix} 10 & -10 & 10  \\\\ 10 & -10 & 10 \\\\ &...&&\\\\10 & -10 & 10 \\end{bmatrix} $$"
   ]
  },
  {
   "cell_type": "code",
   "execution_count": null,
   "metadata": {
    "collapsed": true
   },
   "outputs": [],
   "source": [
    "# R: B = matrix(c(rep(10,15), rep(-10,15), rep(10,15)), 15, 3)\n",
    "# R: (t(B)%*%B)"
   ]
  },
  {
   "cell_type": "markdown",
   "metadata": {},
   "source": [
    "#### Obtenha a matriz $B^T B 3 × 3$ "
   ]
  },
  {
   "cell_type": "code",
   "execution_count": null,
   "metadata": {
    "collapsed": true
   },
   "outputs": [],
   "source": []
  }
 ],
 "metadata": {
  "kernelspec": {
   "display_name": "Python [Root]",
   "language": "python",
   "name": "Python [Root]"
  },
  "language_info": {
   "codemirror_mode": {
    "name": "ipython",
    "version": 3
   },
   "file_extension": ".py",
   "mimetype": "text/x-python",
   "name": "python",
   "nbconvert_exporter": "python",
   "pygments_lexer": "ipython3",
   "version": "3.5.2"
  }
 },
 "nbformat": 4,
 "nbformat_minor": 2
}
