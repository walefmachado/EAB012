{
 "cells": [
  {
   "cell_type": "markdown",
   "metadata": {},
   "source": [
    "# Lista 1 - Introdução ao Python"
   ]
  },
  {
   "cell_type": "code",
   "execution_count": 1,
   "metadata": {
    "collapsed": true
   },
   "outputs": [],
   "source": [
    "import numpy as np"
   ]
  },
  {
   "cell_type": "markdown",
   "metadata": {},
   "source": [
    "#### 1. Crie os seguintes vetores :"
   ]
  },
  {
   "cell_type": "markdown",
   "metadata": {},
   "source": [
    "**a) (1, 2, 3, . . ., 15)**"
   ]
  },
  {
   "cell_type": "code",
   "execution_count": 5,
   "metadata": {
    "collapsed": false
   },
   "outputs": [
    {
     "data": {
      "text/plain": [
       "array([ 1,  2,  3,  4,  5,  6,  7,  8,  9, 10, 11, 12, 13, 14, 15])"
      ]
     },
     "execution_count": 5,
     "metadata": {},
     "output_type": "execute_result"
    }
   ],
   "source": [
    "# R: seq(1,15,1)\n",
    "np.arange(1,16)"
   ]
  },
  {
   "cell_type": "markdown",
   "metadata": {},
   "source": [
    "**b) (15, 14, . . ., 1)**"
   ]
  },
  {
   "cell_type": "code",
   "execution_count": 8,
   "metadata": {
    "collapsed": false
   },
   "outputs": [
    {
     "data": {
      "text/plain": [
       "array([15, 14, 13, 12, 11, 10,  9,  8,  7,  6,  5,  4,  3,  2,  1])"
      ]
     },
     "execution_count": 8,
     "metadata": {},
     "output_type": "execute_result"
    }
   ],
   "source": [
    "# R: seq(15,1)\n",
    "np.arange(15,0,-1)"
   ]
  },
  {
   "cell_type": "markdown",
   "metadata": {},
   "source": [
    "**c) (1, 2, 3, . . . , 19, 20, 19, 18, . . . , 2, 1)**"
   ]
  },
  {
   "cell_type": "code",
   "execution_count": 3,
   "metadata": {
    "collapsed": false
   },
   "outputs": [
    {
     "data": {
      "text/plain": [
       "array([ 1,  2,  3,  4,  5,  6,  7,  8,  9, 10, 11, 12, 13, 14, 15, 16, 17,\n",
       "       18, 19, 19, 20, 19, 18, 17, 16, 15, 14, 13, 12, 11, 10,  9,  8,  7,\n",
       "        6,  5,  4,  3,  2,  1])"
      ]
     },
     "execution_count": 3,
     "metadata": {},
     "output_type": "execute_result"
    }
   ],
   "source": [
    "# R: c(seq(1,20),seq(19,1))\n",
    "a = np.arange(40)\n",
    "a[0:19] = np.arange(1,20)\n",
    "a[20:41] = np.arange(20,0,-1)\n",
    "a"
   ]
  },
  {
   "cell_type": "code",
   "execution_count": 79,
   "metadata": {
    "collapsed": false
   },
   "outputs": [
    {
     "data": {
      "text/plain": [
       "array([ 1,  2,  3,  4,  5,  6,  7,  8,  9, 10, 11, 12, 13, 14, 15, 16, 17,\n",
       "       18, 19, 20, 19, 18, 17, 16, 15, 14, 13, 12, 11, 10,  9,  8,  7,  6,\n",
       "        5,  4,  3,  2,  1])"
      ]
     },
     "execution_count": 79,
     "metadata": {},
     "output_type": "execute_result"
    }
   ],
   "source": [
    "# R: c(seq(1,20),seq(19,1))\n",
    "np.concatenate((np.arange(1,20),np.arange(20,0,-1)), axis=None)"
   ]
  },
  {
   "cell_type": "markdown",
   "metadata": {},
   "source": [
    "**d) (7, 8, 9) com o nome “a”**"
   ]
  },
  {
   "cell_type": "code",
   "execution_count": 34,
   "metadata": {
    "collapsed": false
   },
   "outputs": [
    {
     "data": {
      "text/plain": [
       "array([7, 8, 9])"
      ]
     },
     "execution_count": 34,
     "metadata": {},
     "output_type": "execute_result"
    }
   ],
   "source": [
    "# R: a = seq(7,9)\n",
    "a = np.arange(7,10,1)\n",
    "a"
   ]
  },
  {
   "cell_type": "markdown",
   "metadata": {},
   "source": [
    "**e) (7, 8, 9, 7, 8, 9, . . ., 7, 8, 9) em que haja 9 ocorrências do 7**"
   ]
  },
  {
   "cell_type": "code",
   "execution_count": 4,
   "metadata": {
    "collapsed": false
   },
   "outputs": [
    {
     "data": {
      "text/plain": [
       "array([7, 8, 9, 7, 8, 9, 7, 8, 9, 7, 8, 9, 7, 8, 9, 7, 8, 9, 7, 8, 9, 7, 8,\n",
       "       9])"
      ]
     },
     "execution_count": 4,
     "metadata": {},
     "output_type": "execute_result"
    }
   ],
   "source": [
    "# R: rep(c(7,8,9),7)\n",
    "np.tile(np.arange(7,10,1),8)"
   ]
  },
  {
   "cell_type": "markdown",
   "metadata": {},
   "source": [
    "**f) $(7, 8, 9, 7, 8, 9, . . ., 7, 8, 9, 7)$ em que haja 11 ocorrências do 7, 10 ocorrências do 8 e 10 ocorrências do 9**"
   ]
  },
  {
   "cell_type": "code",
   "execution_count": 5,
   "metadata": {
    "collapsed": false
   },
   "outputs": [
    {
     "data": {
      "text/plain": [
       "array([7, 7, 7, 7, 7, 7, 7, 7, 7, 7, 7, 8, 8, 8, 8, 8, 8, 8, 8, 8, 8, 9, 9,\n",
       "       9, 9, 9, 9, 9, 9, 9, 9])"
      ]
     },
     "execution_count": 5,
     "metadata": {},
     "output_type": "execute_result"
    }
   ],
   "source": [
    "# R: (a = c(rep(c(7,8,9),10),rep(c(8,9),10),rep(9,10)))\n",
    "np.concatenate((np.repeat(7,11),np.repeat(8,10),np.repeat(9,10)),axis=None)"
   ]
  },
  {
   "cell_type": "markdown",
   "metadata": {},
   "source": [
    "**g) $(7, 7, . . ., 7, 8, 8, . . ., 8, 9, 9, . . ., 9)$ em que haja 10 ocorrências do 7, 20 ocorrências do 8 e 30 ocorrências do 9**"
   ]
  },
  {
   "cell_type": "code",
   "execution_count": 6,
   "metadata": {
    "collapsed": false
   },
   "outputs": [
    {
     "data": {
      "text/plain": [
       "array([7, 7, 7, 7, 7, 7, 7, 7, 7, 7, 8, 8, 8, 8, 8, 8, 8, 8, 8, 8, 8, 8, 8,\n",
       "       8, 8, 8, 8, 8, 8, 8, 9, 9, 9, 9, 9, 9, 9, 9, 9, 9, 9, 9, 9, 9, 9, 9,\n",
       "       9, 9, 9, 9, 9, 9, 9, 9, 9, 9, 9, 9, 9, 9])"
      ]
     },
     "execution_count": 6,
     "metadata": {},
     "output_type": "execute_result"
    }
   ],
   "source": [
    "# R: (a =c(rep(7,10), rep(8,20), rep(9,30)))\n",
    "np.concatenate((np.repeat(7,10),np.repeat(8,20),np.repeat(9,30)),axis=None)"
   ]
  },
  {
   "cell_type": "markdown",
   "metadata": {},
   "source": [
    "#### 2. Crie um vetor dos valores de $e^{x}\\cos x$ em $x = 3; 3, 1; 3, 2; 3, 3; . . ., 6$"
   ]
  },
  {
   "cell_type": "code",
   "execution_count": 7,
   "metadata": {
    "collapsed": false
   },
   "outputs": [
    {
     "data": {
      "text/plain": [
       "array([-19.88453084, -22.17875339, -24.49069673, -26.77318244,\n",
       "       -28.96923777, -31.01118644, -32.81977476])"
      ]
     },
     "execution_count": 7,
     "metadata": {},
     "output_type": "execute_result"
    }
   ],
   "source": [
    "# R: exp(seq(3,3.6,0.1))*cos(seq(3,3.6,0.1))\n",
    "np.exp(np.arange(3.0,3.6,0.1)) * np.cos(np.arange(3.0,3.6,0.1))"
   ]
  },
  {
   "cell_type": "markdown",
   "metadata": {},
   "source": [
    "#### 3. Crie os seguintes vetores: "
   ]
  },
  {
   "cell_type": "markdown",
   "metadata": {},
   "source": [
    "**a) $(0, 1)^3 (0, 2)^1 , (0, 1)^6 (0, 2)^4 , . . ., (0, 1)^{36} (0, 2)^{34}$**"
   ]
  },
  {
   "cell_type": "code",
   "execution_count": 8,
   "metadata": {
    "collapsed": false
   },
   "outputs": [
    {
     "data": {
      "text/plain": [
       "array([  2.00000000e-04,   1.60000000e-09,   1.28000000e-14,\n",
       "         1.02400000e-19,   8.19200000e-25,   6.55360000e-30,\n",
       "         5.24288000e-35,   4.19430400e-40,   3.35544320e-45,\n",
       "         2.68435456e-50,   2.14748365e-55,   1.71798692e-60])"
      ]
     },
     "execution_count": 8,
     "metadata": {},
     "output_type": "execute_result"
    }
   ],
   "source": [
    "# R: (0.1)^seq(3,36,3)*(0.2)^seq(1,34,3)\n",
    "((0.1) ** (np.arange(3,37,3)))* ((0.2) ** (np.arange(1,35,3)))"
   ]
  },
  {
   "cell_type": "markdown",
   "metadata": {},
   "source": [
    "**b)** $(2, \\frac{2^2}{2},\\frac{2^3}{3},...,\\frac{2^{25}}{25})$"
   ]
  },
  {
   "cell_type": "code",
   "execution_count": 10,
   "metadata": {
    "collapsed": false
   },
   "outputs": [
    {
     "data": {
      "text/plain": [
       "array([  2.00000000e+00,   2.00000000e+00,   2.66666667e+00,\n",
       "         4.00000000e+00,   6.40000000e+00,   1.06666667e+01,\n",
       "         1.82857143e+01,   3.20000000e+01,   5.68888889e+01,\n",
       "         1.02400000e+02,   1.86181818e+02,   3.41333333e+02,\n",
       "         6.30153846e+02,   1.17028571e+03,   2.18453333e+03,\n",
       "         4.09600000e+03,   7.71011765e+03,   1.45635556e+04,\n",
       "         2.75941053e+04,   5.24288000e+04,   9.98643810e+04,\n",
       "         1.90650182e+05,   3.64722087e+05,   6.99050667e+05,\n",
       "         1.34217728e+06])"
      ]
     },
     "execution_count": 10,
     "metadata": {},
     "output_type": "execute_result"
    }
   ],
   "source": [
    "# R: (2^seq(1,25))/seq(1,25)\n",
    "(2 ** np.arange(1,26)) / np.arange(1,26)"
   ]
  },
  {
   "cell_type": "markdown",
   "metadata": {},
   "source": [
    "#### 4. Calcule"
   ]
  },
  {
   "cell_type": "markdown",
   "metadata": {},
   "source": [
    "** a)** $\\displaystyle\\sum^{100}_{i=10}(i^3+4i^2)$"
   ]
  },
  {
   "cell_type": "code",
   "execution_count": 11,
   "metadata": {
    "collapsed": false
   },
   "outputs": [
    {
     "data": {
      "text/plain": [
       "26855900"
      ]
     },
     "execution_count": 11,
     "metadata": {},
     "output_type": "execute_result"
    }
   ],
   "source": [
    "# R: sum(seq(1,100)^3 + 4*(seq(1,100))^2)\n",
    "np.sum((np.arange(1,101) ** 3) + (4 * (np.arange(1,101) ** 2)))"
   ]
  },
  {
   "cell_type": "markdown",
   "metadata": {},
   "source": [
    "**b)** $\\displaystyle\\sum^{25}_{i=10}(\\frac{2^i}{i}+\\frac{3^i}{i^2})$"
   ]
  },
  {
   "cell_type": "code",
   "execution_count": 12,
   "metadata": {
    "collapsed": false
   },
   "outputs": [
    {
     "data": {
      "text/plain": [
       "2129170436.8143802"
      ]
     },
     "execution_count": 12,
     "metadata": {},
     "output_type": "execute_result"
    }
   ],
   "source": [
    "# R: sum(((2^seq(1,25))/seq(1,25)) + (3^seq(1,25))/(seq(1,25))^2)\n",
    "np.sum(((2 ** np.arange(1,26)) / np.arange(1,26)) + (3 ** np.arange(1,26)) / np.arange(1,26) ** 2)"
   ]
  },
  {
   "cell_type": "markdown",
   "metadata": {},
   "source": [
    "#### 5. Use a função paste para criar os seguintes vetores de caracteres de tamanho 30:"
   ]
  },
  {
   "cell_type": "markdown",
   "metadata": {},
   "source": [
    "**a) $(“nome\\text{ }1”, “nome\\text{ }2”, . . ., “nome\\text{ }30”)$ Note que há apenas um espaço entre o nome e o número.**"
   ]
  },
  {
   "cell_type": "code",
   "execution_count": 77,
   "metadata": {
    "collapsed": false
   },
   "outputs": [
    {
     "name": "stdout",
     "output_type": "stream",
     "text": [
      "nome 1\n",
      "nome 2\n",
      "nome 3\n",
      "nome 4\n",
      "nome 5\n",
      "nome 6\n",
      "nome 7\n",
      "nome 8\n",
      "nome 9\n",
      "nome 10\n",
      "nome 11\n",
      "nome 12\n",
      "nome 13\n",
      "nome 14\n",
      "nome 15\n",
      "nome 16\n",
      "nome 17\n",
      "nome 18\n",
      "nome 19\n",
      "nome 20\n",
      "nome 21\n",
      "nome 22\n",
      "nome 23\n",
      "nome 24\n",
      "nome 25\n",
      "nome 26\n",
      "nome 27\n",
      "nome 28\n",
      "nome 29\n",
      "nome 30\n"
     ]
    }
   ],
   "source": [
    "# R: (nomes <- paste(\"nome\", 1:30))\n",
    "for i in range(1,31):\n",
    "    text = 'nome ' + str(i)\n",
    "    print(text) "
   ]
  },
  {
   "cell_type": "markdown",
   "metadata": {
    "collapsed": true
   },
   "source": [
    "**b) $(“f1”, “f2”, . . ., “f30”)$ Aqui não há espaço entre a letra e o número.**"
   ]
  },
  {
   "cell_type": "code",
   "execution_count": 72,
   "metadata": {
    "collapsed": false
   },
   "outputs": [
    {
     "name": "stdout",
     "output_type": "stream",
     "text": [
      "f1\n",
      "f2\n",
      "f3\n",
      "f4\n",
      "f5\n",
      "f6\n",
      "f7\n",
      "f8\n",
      "f9\n",
      "f10\n",
      "f11\n",
      "f12\n",
      "f13\n",
      "f14\n",
      "f15\n",
      "f16\n",
      "f17\n",
      "f18\n",
      "f19\n",
      "f20\n",
      "f21\n",
      "f22\n",
      "f23\n",
      "f24\n",
      "f25\n",
      "f26\n",
      "f27\n",
      "f28\n",
      "f29\n",
      "f30\n"
     ]
    },
    {
     "data": {
      "text/plain": [
       "str"
      ]
     },
     "execution_count": 72,
     "metadata": {},
     "output_type": "execute_result"
    }
   ],
   "source": [
    "# R: paste0(\"f\", 1:30)\n",
    "for i in range(1,31):\n",
    "    text = ('f' + str(i))\n",
    "    print(text)"
   ]
  },
  {
   "cell_type": "markdown",
   "metadata": {},
   "source": [
    "#### 6. Execute os seguintes comandos que criam dois vetores de inteiros aleatórios que são escolhidos com reposição entre 0 e 999. Ambos os vetores têm comprimento 250.    \n",
    "<br>\n",
    "   \n",
    "    set.seed(50)\n",
    "    x = sample(0:999, 250, replace=T)\n",
    "    y = sample(0:999, 250, replace=T)  \n",
    "#### Suponha que $x = [x 1 , . . . , x n ]$ e $y = [y 1 , . . . , y n ]$ denotem os vetores."
   ]
  },
  {
   "cell_type": "code",
   "execution_count": 131,
   "metadata": {
    "collapsed": false
   },
   "outputs": [],
   "source": [
    "x = np.random.uniform(low=0, high=999, size=250).round(2)\n",
    "y = np.random.uniform(low=0, high=999, size=250).round(2)"
   ]
  },
  {
   "cell_type": "code",
   "execution_count": 132,
   "metadata": {
    "collapsed": false
   },
   "outputs": [
    {
     "data": {
      "text/plain": [
       "(250,)"
      ]
     },
     "execution_count": 132,
     "metadata": {},
     "output_type": "execute_result"
    }
   ],
   "source": [
    "x.shape"
   ]
  },
  {
   "cell_type": "markdown",
   "metadata": {},
   "source": [
    "**a) Crie o vetor $(y_{2} − x_1 , . . . , y_{n} − x_{n−1} ) $**"
   ]
  },
  {
   "cell_type": "code",
   "execution_count": 171,
   "metadata": {
    "collapsed": false
   },
   "outputs": [
    {
     "data": {
      "text/plain": [
       "array([-665.36, -301.58,  391.34,  -51.9 , -545.69, -216.95,  306.85,\n",
       "       -278.26,  833.13,  387.8 ,  672.85, -730.28,  727.94,  352.36,\n",
       "       -801.19, -170.06,  140.52,  -28.12,  109.85,  448.02,  711.67,\n",
       "        479.83,  -82.03,  694.32, -420.75,  167.67,  100.45,  -45.13,\n",
       "       -399.83,  491.79,  330.86,  -69.26,  801.08,  401.7 ,  911.09,\n",
       "        174.07,  546.6 ,   44.49,  299.88,  -87.02, -845.41, -928.58,\n",
       "       -228.96, -532.11, -346.83,  218.4 ,  229.14, -566.77,  304.85,\n",
       "       -433.66])"
      ]
     },
     "execution_count": 171,
     "metadata": {},
     "output_type": "execute_result"
    }
   ],
   "source": [
    "# R: y[seq(2,250)] - x[seq(1,249)]\n",
    "s = (y[np.arange(1,249)]) - (x[np.arange(0,248)])\n",
    "s[0:50]"
   ]
  },
  {
   "cell_type": "markdown",
   "metadata": {
    "collapsed": true
   },
   "source": [
    "** b) Crie o vetor $ \\big(\\frac{\\sin(y_1)}{\\cos(x_2}, \\frac{\\sin(y_2)}{\\cos(x_3},\\frac{\\sin(y_{n-1})}{\\cos(x_n)} \\big)$**\n"
   ]
  },
  {
   "cell_type": "code",
   "execution_count": 164,
   "metadata": {
    "collapsed": false
   },
   "outputs": [
    {
     "data": {
      "text/plain": [
       "array([  1.92309307e-02,  -5.50721365e-01,  -3.18573332e+00,\n",
       "        -1.03522302e+00,  -3.02696146e-01,   1.93813467e+00,\n",
       "         1.55034672e+00,  -2.43201896e+00,  -3.82267422e+00,\n",
       "        -2.05367364e+00,   4.61840357e-01,   7.01526538e-01,\n",
       "        -7.05611082e-01,   5.56276613e-01,   1.69272683e-02,\n",
       "         1.48330531e-01,   4.40321184e+00,  -9.14304834e+01,\n",
       "        -1.04888101e+00,  -4.30173068e+00,   1.36972623e+00,\n",
       "         1.49825895e-01,  -1.19642170e-01,   9.75418104e-01,\n",
       "         1.18366420e+00,  -5.12182393e-01,   9.54012107e-01,\n",
       "        -1.99056770e+00,   8.61244532e-01,   8.37852388e+00,\n",
       "        -9.08204324e-01,   1.45458497e+00,   1.05576728e+00,\n",
       "         1.29374310e+00,  -1.07543431e+00,  -7.29229026e-01,\n",
       "        -3.29352343e-01,  -4.63309263e-01,  -2.76804859e-01,\n",
       "         6.86337026e-01,   5.07484333e-01,   4.53414138e+00,\n",
       "         6.85106277e-01,  -4.04392930e+00,   3.26226763e+00,\n",
       "         2.44426019e-01,   3.97076040e+00,  -9.23594281e-01,\n",
       "         3.21106612e-01,  -5.87490919e-01])"
      ]
     },
     "execution_count": 164,
     "metadata": {},
     "output_type": "execute_result"
    }
   ],
   "source": [
    "# R: (sin(y[seq(1,249)]))/(cos(x[seq(2,250)]))\n",
    "s = (np.sin(y[np.arange(0,249)])) / (np.cos(x[np.arange(1,250)]))\n",
    "s[0:50]"
   ]
  },
  {
   "cell_type": "markdown",
   "metadata": {
    "collapsed": true
   },
   "source": [
    "**c) Crie o vetor $(x_1 + 2x_2 - x_3, x_2 +2x_3 +x_4,...,x_{n-2} + 2x_{n-1}-x_n)$**"
   ]
  },
  {
   "cell_type": "code",
   "execution_count": 206,
   "metadata": {
    "collapsed": false
   },
   "outputs": [
    {
     "data": {
      "text/plain": [
       "array([ 2045.44,  1011.22,  -363.94,  1197.36,  1893.89,   794.33,\n",
       "        1970.6 ,   428.35,   753.91,    -3.12,  1551.39,   955.17,\n",
       "         253.59,  1804.97,   854.92,   727.48,   801.66,  1651.01,\n",
       "         558.81,   347.19,   185.53,  1386.08,    51.99,  1102.65,\n",
       "        1734.9 ,  1160.49,   235.4 ,   860.24,  1006.47,   276.56,\n",
       "         256.31,  -167.51,   539.74,   289.46,    64.93,   445.29,\n",
       "        -241.21,   498.98,   222.06,  1206.52,  1869.33,  2009.06,\n",
       "        1401.06,  1735.38,  1900.25,   985.38,  1310.59,   286.02,\n",
       "        1425.45,  2105.29,   320.51,  2035.52,   683.8 ,   967.68,\n",
       "        2002.78,  1152.85,  1381.13,  2384.14,   681.67,   642.8 ,\n",
       "        1068.31,  2121.19,  1209.55,  1553.66,  1985.89,   691.51,\n",
       "        2024.38,  1726.12,  -589.01,  1330.22,  2281.32,    84.59,\n",
       "         272.81,  2252.19,   591.94,  1922.33,   468.97,  1378.33,\n",
       "        2169.48,   798.77,  -382.69,   317.82,  1325.33,   946.62,\n",
       "         646.04,   386.5 ,  1882.98,    73.01,  1483.64,  1040.75,\n",
       "        1409.28,  2273.96,   596.53,   770.24,    49.3 ,  1612.92,\n",
       "         444.18,  1357.32,  2564.1 ,   802.54,  -123.09,    42.14,\n",
       "         332.47,   864.67,  1989.08,  1508.67,   420.04,  1294.46,\n",
       "         614.68,  1451.64,   511.16,    71.89,  1505.18,  2361.96,\n",
       "        1319.51,   807.54,   935.63,  2104.57,  2033.76,   162.42,\n",
       "         178.07,   892.88,  1290.73,  1301.81,   777.3 ,  2085.13,\n",
       "        1379.52,  1044.22,  1268.34,   137.49,   643.35,   974.71,\n",
       "        1627.64,  1772.08,  2352.01,  1067.76,  1134.75,  2067.66,\n",
       "        1177.34,  1205.19,  1672.62,  1784.28,   362.91,  1246.52,\n",
       "        2255.84,  2280.81,   559.51,   115.75,   629.02,   516.96,\n",
       "        2005.15,  1133.12,   330.16,  1140.83,  1336.26,   116.96,\n",
       "        1915.57,  1624.89,   220.83,   567.7 ,   253.96,   324.79,\n",
       "         -32.36,   451.49,  1603.23,  1451.02,  1696.04,  2812.82,\n",
       "         498.98,  1386.62,   523.85,  1181.94,  1750.64,  1029.76,\n",
       "         845.17,   942.92,   958.8 ,   513.2 ,  -569.72,  1059.34,\n",
       "        1102.77,  1846.91,    64.02,  1169.16,  2742.99,   622.43,\n",
       "         586.97,   866.18,   782.48,  1624.41,   236.17,   354.74,\n",
       "         936.95,   447.56,   346.11,  1288.3 ,   -43.08,   817.84,\n",
       "        1001.77,   156.52,   747.49,  1343.12,  -366.43,  1087.59,\n",
       "        2347.9 ,   913.69,  -349.56,  1101.15,  2586.73,  1347.28,\n",
       "        -388.69,   884.05,  1054.66,   447.39,  1924.42,    57.8 ,\n",
       "        1437.53,  2110.4 ,  -155.96,   977.88,  1500.68,   973.53,\n",
       "         993.59,  1415.93,  2088.74,   810.23,  1681.96,  1158.15,\n",
       "        2517.25,   992.15,  -250.26,   944.97,  1533.09,  1481.89,\n",
       "        1087.5 ,   712.78,    89.  ,    16.81,   203.8 ,    68.43,\n",
       "        1290.89,  2531.  ,   993.83,  1707.22,  1328.57,  -141.51,\n",
       "         717.31,   895.15])"
      ]
     },
     "execution_count": 206,
     "metadata": {},
     "output_type": "execute_result"
    }
   ],
   "source": [
    "# R: x[seq(1,248)]+2*x[seq(2,249)]-x[seq(3,250)]\n",
    "(x[np.arange(0,248)]) +  (2 * x[np.arange(1,249)]) - (x[np.arange(2,250)])"
   ]
  },
  {
   "cell_type": "code",
   "execution_count": null,
   "metadata": {
    "collapsed": true
   },
   "outputs": [],
   "source": []
  },
  {
   "cell_type": "code",
   "execution_count": null,
   "metadata": {
    "collapsed": true
   },
   "outputs": [],
   "source": []
  },
  {
   "cell_type": "code",
   "execution_count": null,
   "metadata": {
    "collapsed": true
   },
   "outputs": [],
   "source": []
  },
  {
   "cell_type": "code",
   "execution_count": null,
   "metadata": {
    "collapsed": true
   },
   "outputs": [],
   "source": []
  },
  {
   "cell_type": "code",
   "execution_count": null,
   "metadata": {
    "collapsed": true
   },
   "outputs": [],
   "source": []
  },
  {
   "cell_type": "code",
   "execution_count": null,
   "metadata": {
    "collapsed": true
   },
   "outputs": [],
   "source": []
  },
  {
   "cell_type": "code",
   "execution_count": null,
   "metadata": {
    "collapsed": true
   },
   "outputs": [],
   "source": []
  },
  {
   "cell_type": "code",
   "execution_count": null,
   "metadata": {
    "collapsed": true
   },
   "outputs": [],
   "source": []
  },
  {
   "cell_type": "code",
   "execution_count": null,
   "metadata": {
    "collapsed": true
   },
   "outputs": [],
   "source": []
  },
  {
   "cell_type": "code",
   "execution_count": null,
   "metadata": {
    "collapsed": true
   },
   "outputs": [],
   "source": []
  },
  {
   "cell_type": "code",
   "execution_count": null,
   "metadata": {
    "collapsed": true
   },
   "outputs": [],
   "source": []
  }
 ],
 "metadata": {
  "kernelspec": {
   "display_name": "Python [Root]",
   "language": "python",
   "name": "Python [Root]"
  },
  "language_info": {
   "codemirror_mode": {
    "name": "ipython",
    "version": 3
   },
   "file_extension": ".py",
   "mimetype": "text/x-python",
   "name": "python",
   "nbconvert_exporter": "python",
   "pygments_lexer": "ipython3",
   "version": "3.5.2"
  }
 },
 "nbformat": 4,
 "nbformat_minor": 2
}
