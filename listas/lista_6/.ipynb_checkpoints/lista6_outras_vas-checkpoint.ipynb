{
 "cells": [
  {
   "cell_type": "markdown",
   "metadata": {},
   "source": [
    "# Lista 6 - Geração de outras variáveis aleatórias importantes\n",
    "\n",
    "<br>\n",
    "\n",
    "#### Gerar realizações de variáveis normais padrão utilizando as aproximações dadas por: \n",
    "\n",
    "$$X = [U^{0,135} - (1-U^{0,135})]/0,1975$$  \n",
    "```{r}\n",
    "rnorm1 = function(n){\n",
    "  u = runif(n,0,1)\n",
    "  x = ( u ** (0.135) - (1 - u) ** 0.135) / 0.1975 \n",
    "  return(x)\n",
    "}\n",
    "```\n"
   ]
  },
  {
   "cell_type": "code",
   "execution_count": 1,
   "metadata": {
    "collapsed": true
   },
   "outputs": [],
   "source": [
    "import numpy as np"
   ]
  },
  {
   "cell_type": "code",
   "execution_count": 2,
   "metadata": {
    "collapsed": true
   },
   "outputs": [],
   "source": [
    "def rnorm1(n):\n",
    "    u = x = np.random.uniform(low=0, high=1, size=n)\n",
    "    x = (u ** (0.135) - (1 - u) ** 0.135) / 0.1975\n",
    "    return(x)"
   ]
  },
  {
   "cell_type": "markdown",
   "metadata": {},
   "source": [
    "#### e da soma de 12 ou mais variáveis uniformes $(U_i ∼ U (0, 1))$  independentes,   \n",
    "$$ X = \\displaystyle \\sum^{12}_{i}U_i - 6$$  \n",
    "```{r}\n",
    "rnorm2 = function(n){\n",
    "  x = 0\n",
    "  for (i  in 1:12) {\n",
    "    x = x + (runif(n, 0, 1) - 6) \n",
    "  }\n",
    "  return(x)\n",
    "}\n",
    "```"
   ]
  },
  {
   "cell_type": "code",
   "execution_count": 14,
   "metadata": {
    "collapsed": false
   },
   "outputs": [],
   "source": [
    "def rnorm2(n):\n",
    "    x = 0\n",
    "    for i in range(0,12):\n",
    "        x = x + (np.random.uniform(0, 1, n) - 6)\n",
    "    return(x)"
   ]
  },
  {
   "cell_type": "markdown",
   "metadata": {},
   "source": [
    "**a) Criar as funções `rnorm1` e `rnorm2` e usá-las para gerar $n = 5.000$ realizações usando as duas funções.**\n",
    "```{r}\n",
    "n = 5000\n",
    "\n",
    "a = rnorm1(n) # Amostra gerada com a aproximação X = [U^0,135 − (1 − U)^0,135 ]/0,1975\n",
    "head(a)\n",
    "\n",
    "shapiro.test(rnorm1(n))  # A amostra 'a' gerada com a função rnorm1 não segue distribuição normal\n",
    "hist(rnorm1(n))\n",
    "\n",
    "b = rnorm2(n) # Amostra gerada com a aproximação soma de 12 v.a.s uniformes independentes\n",
    "head(b)\n",
    "\n",
    "shapiro.test(rnorm2(n)) # A amostra 'a' gerada com a função rnorm2 segue distribuição normal\n",
    "hist(rnorm2(n))\n",
    "```"
   ]
  },
  {
   "cell_type": "code",
   "execution_count": 18,
   "metadata": {
    "collapsed": false
   },
   "outputs": [
    {
     "data": {
      "text/plain": [
       "array([ 0.25686688,  0.74597458, -0.22544088, -0.32640109, -0.46257428,\n",
       "       -0.13498462, -1.56909379, -1.01573042,  0.25890189,  0.73610848,\n",
       "       -1.82756664, -0.12282393, -1.52129095, -0.61082907,  0.11948397,\n",
       "       -0.27233594,  0.59573796,  1.24140895,  0.84845247,  0.07363059,\n",
       "        1.52270141, -0.11749127,  0.21235937, -1.70503063,  0.58543407,\n",
       "        0.37349603,  0.61572903,  3.64288468, -1.23439028, -0.998929  ,\n",
       "       -0.3954359 , -0.46760633, -0.40198747,  1.24004533, -0.23689018,\n",
       "        0.97749139, -1.70049594,  1.11544286,  0.77659866,  0.96307945,\n",
       "       -0.67892878, -1.55690184,  1.1113754 ,  1.95008032,  0.1339872 ,\n",
       "       -1.01382463, -0.63081714,  2.24243533,  0.3197909 ,  0.21666366])"
      ]
     },
     "execution_count": 18,
     "metadata": {},
     "output_type": "execute_result"
    }
   ],
   "source": [
    "n = 5000\n",
    "a = rnorm1(n) # Amostra gerada com a aproximação X = [U^0,135 − (1 − U)^0,135 ]/0,1975\n",
    "a[0:50]"
   ]
  },
  {
   "cell_type": "code",
   "execution_count": 19,
   "metadata": {
    "collapsed": false
   },
   "outputs": [
    {
     "data": {
      "text/plain": [
       "array([-64.0854561 , -66.66510891, -64.06989148, -65.76388779,\n",
       "       -65.77767343, -66.0020632 , -66.09816818, -64.60718441,\n",
       "       -65.539678  , -65.41159396, -64.35672689, -66.69269085,\n",
       "       -67.19413868, -67.59566861, -66.148411  , -66.68711715,\n",
       "       -65.24750159, -65.70131162, -65.58920758, -64.74944257,\n",
       "       -66.35049627, -66.61130011, -66.32188553, -65.98394433,\n",
       "       -67.16073875, -66.06050409, -63.37171327, -65.0833338 ,\n",
       "       -66.24621869, -65.20695467, -65.3023709 , -65.70578118,\n",
       "       -66.43881687, -66.98680303, -65.76939619, -65.34161904,\n",
       "       -67.53629309, -66.89763   , -66.67874778, -67.01471661,\n",
       "       -67.80524707, -67.33364366, -66.89195649, -67.37538816,\n",
       "       -66.70337501, -66.98981215, -65.8718051 , -66.54356765,\n",
       "       -66.26520249, -63.85085086])"
      ]
     },
     "execution_count": 19,
     "metadata": {},
     "output_type": "execute_result"
    }
   ],
   "source": [
    "b = rnorm2(n) # Amostra gerada com a aproximação soma de 12 v.a.s uniformes independentes\n",
    "b[0:50]"
   ]
  },
  {
   "cell_type": "markdown",
   "metadata": {},
   "source": [
    "**b) Comparar os quantis 1%, 5%, 10%, 50%, 90%, 95% e 99% esperados da distribuição normal com os estimados.** \n",
    "```{r}\n",
    "p = c(.01, .05, .1, .5, .9, .95, .99) #   quantis 1%, 5%, 10%, 50%, 90%, 95% e 99%\n",
    "Qhat = quantile(a, p)\n",
    "Q = qnorm(p)\n",
    "round(rbind(Qhat, Q), 3)             \n",
    "\n",
    "Qhat = quantile(b, p)\n",
    "Q = qnorm(p)\n",
    "round(rbind(Qhat, Q), 3)\n",
    "```"
   ]
  },
  {
   "cell_type": "code",
   "execution_count": null,
   "metadata": {
    "collapsed": true
   },
   "outputs": [],
   "source": []
  },
  {
   "cell_type": "markdown",
   "metadata": {},
   "source": [
    "**c) Gerar também uma amostra de mesmo tamanho utilizando o algoritmo de Box-Müller. Estimar os mesmos quantis anteriores nesta amostra e comparar com os resultados anteriores.**\n",
    "```{r}\n",
    "BoxMuller = function(n, mu=0, sigma=1){\n",
    "  # Polar: função que retorna dois números normais\n",
    "  Polar = function(){  # função sem argumento\n",
    "    repeat{\n",
    "      u = runif(2, -1, 1) # 2 v. uniformes U(-1,1)\n",
    "      r2 = as.numeric(u %*% u) # toma o quadrado\n",
    "      if((r2 > 0) & (r2 < 1)) break\n",
    "    } # fim do repeat\n",
    "    ff = sqrt(-2 * log(r2) / r2)\n",
    "    y = ff * u # vetor de dim 2 com var. normais padrao ind.\n",
    "    y\n",
    "  } # fim de polar\n",
    "  if(n %% 2 == 0){ # n par\n",
    "    k = n %/% 2 # pega a parte inteira da div.\n",
    "    for(ki in 1:k){\n",
    "      if(ki == 1) x = c(Polar()) else x = c(x, Polar())\n",
    "    }  # for\n",
    "  } else{ # n impar\n",
    "    k = n %/% 2\n",
    "    if(k == 0){ \n",
    "      x = Polar()[1]\n",
    "    } else{\n",
    "      for(ki in 1:k){\n",
    "        if(ki == 1) x = c(Polar()) else x = c(x, Polar())\n",
    "      } # for\n",
    "      x = c(x, Polar()[1])\n",
    "    } # else interno\n",
    "  } # else n par\n",
    "  x = x * sigma + mu  # transformar de N(0, 1) para N(mu, sigma)\n",
    "  return(x)\n",
    "} # fim de BoxMuller\n",
    "\n",
    "c = BoxMuller(n)\n",
    "head(c)\n",
    "\n",
    "Qhat = quantile(c, p)\n",
    "Q = qnorm(p)\n",
    "round(rbind(Qhat, Q), 3)    # A diferença entre os quantis teóricos e os estimados é pequena para o caso da função BoxMuller \n",
    "                            # O que indica que a amostra segue a distribuição normal.\n",
    "\n",
    "```"
   ]
  },
  {
   "cell_type": "code",
   "execution_count": null,
   "metadata": {
    "collapsed": true
   },
   "outputs": [],
   "source": [
    "def BoxMuller(n):\n",
    "    # Polar: função que retorna dois números normais\n",
    "    def Polar():\n",
    "        u = runif(2, -1, 1) # 2 v. uniformes U(-1,1)\n",
    "        r2 = as.numeric(u %*% u) # toma o quadrado\n",
    "        if((r2 > 0) & (r2 < 1)) break\n",
    "    } # fim do repeat\n",
    "    ff = sqrt(-2 * log(r2) / r2)\n",
    "    y = ff * u # vetor de dim 2 com var. normais padrao ind.\n",
    "    y\n",
    "  } # fim de polar"
   ]
  },
  {
   "cell_type": "markdown",
   "metadata": {},
   "source": [
    "**d) Gerar três QQ plots na mesma visualização para comparar o ajuste à normal das amostras geradas pelas diferentes funções**\n",
    "```{r}\n",
    "\n",
    "par(mfrow=c(1,3))\n",
    "\n",
    "qqnorm(a)\n",
    "qqline(a, col = \"red\") # qqplot convirma quq a amostra gerada pela função rnorm1 não segue a distribuição normal\n",
    "\n",
    "qqnorm(b)\n",
    "qqline(b, col = \"red\") # qqplot convirma quq a amostra gerada pela função rnorm2 segue a distribuição normal\n",
    "\n",
    "qqnorm(c)\n",
    "qqline(c, col = \"red\") # qqplot convirma quq a amostra gerada pela função BoxMuller segue a distribuição normal\n",
    "\n",
    "```"
   ]
  }
 ],
 "metadata": {
  "kernelspec": {
   "display_name": "Python [Root]",
   "language": "python",
   "name": "Python [Root]"
  },
  "language_info": {
   "codemirror_mode": {
    "name": "ipython",
    "version": 3
   },
   "file_extension": ".py",
   "mimetype": "text/x-python",
   "name": "python",
   "nbconvert_exporter": "python",
   "pygments_lexer": "ipython3",
   "version": "3.5.2"
  }
 },
 "nbformat": 4,
 "nbformat_minor": 2
}
