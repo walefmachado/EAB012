{
 "cells": [
  {
   "cell_type": "markdown",
   "metadata": {},
   "source": [
    "# Lista 6 - Geração de outras variáveis aleatórias importantes\n",
    "\n",
    "<br>\n",
    "\n",
    "#### Gerar realizações de variáveis normais padrão utilizando as aproximações dadas por: \n",
    "\n",
    "$$X = [U^{0,135} - (1-U^{0,135})]/0,1975$$  "
   ]
  },
  {
   "cell_type": "code",
   "execution_count": 135,
   "metadata": {
    "collapsed": false
   },
   "outputs": [],
   "source": [
    "import numpy as np              # Gerar amostras \n",
    "from scipy import stats         # Shapiro-Wilk test\n",
    "import matplotlib.pyplot as plt # Para fazer gráficos\n",
    "%matplotlib inline         "
   ]
  },
  {
   "cell_type": "markdown",
   "metadata": {},
   "source": [
    "R:\n",
    "```{r}\n",
    "rnorm1 = function(n){\n",
    "  u = runif(n,0,1)\n",
    "  x = ( u ** (0.135) - (1 - u) ** 0.135) / 0.1975 \n",
    "  return(x)\n",
    "}\n",
    "```"
   ]
  },
  {
   "cell_type": "code",
   "execution_count": 2,
   "metadata": {
    "collapsed": true
   },
   "outputs": [],
   "source": [
    "\n",
    "def rnorm1(n):\n",
    "    u = x = np.random.uniform(low=0, high=1, size=n)\n",
    "    x = (u ** (0.135) - (1 - u) ** 0.135) / 0.1975\n",
    "    return(x)"
   ]
  },
  {
   "cell_type": "markdown",
   "metadata": {},
   "source": [
    "#### e da soma de 12 ou mais variáveis uniformes $(U_i ∼ U (0, 1))$  independentes,   \n",
    "$$ X = \\displaystyle \\sum^{12}_{i}U_i - 6$$  "
   ]
  },
  {
   "cell_type": "markdown",
   "metadata": {},
   "source": [
    "R:\n",
    "```{r}\n",
    "rnorm2 = function(n){\n",
    "  x = numeric()\n",
    "  for (i  in 1:n) {\n",
    "    U = runif(12)\n",
    "    y = sum(U) - 6\n",
    "    x = c(x, y)\n",
    "  }\n",
    "  return(x)\n",
    "}\n",
    "```"
   ]
  },
  {
   "cell_type": "code",
   "execution_count": 55,
   "metadata": {
    "collapsed": false
   },
   "outputs": [],
   "source": [
    "def rnorm2(n):\n",
    "    x = []\n",
    "    for i in range(0,n):\n",
    "        U = np.random.uniform(0, 1, 12)\n",
    "        y =  sum(U) - 6\n",
    "        x.append(y)\n",
    "    return(x)"
   ]
  },
  {
   "cell_type": "markdown",
   "metadata": {},
   "source": [
    "**a) Criar as funções `rnorm1` e `rnorm2` e usá-las para gerar $n = 5.000$ realizações usando as duas funções.**"
   ]
  },
  {
   "cell_type": "code",
   "execution_count": 105,
   "metadata": {
    "collapsed": false
   },
   "outputs": [
    {
     "data": {
      "text/plain": [
       "array([-0.13921778,  0.80560844, -0.99835787, -1.1255444 , -2.11394714,\n",
       "       -1.60142435, -0.21054593,  0.51702138, -0.05935384, -0.87402112,\n",
       "        0.54680017,  0.57312313,  1.2988426 , -1.107746  ,  0.1224813 ,\n",
       "       -1.12208297, -1.29577747, -0.11725299, -0.99751657, -0.62447637])"
      ]
     },
     "execution_count": 105,
     "metadata": {},
     "output_type": "execute_result"
    }
   ],
   "source": [
    "n = 5000\n",
    "a = rnorm1(n) # Amostra gerada com a aproximação X = [U^0,135 − (1 − U)^0,135 ]/0,1975\n",
    "a[0:20]"
   ]
  },
  {
   "cell_type": "code",
   "execution_count": 93,
   "metadata": {
    "collapsed": false
   },
   "outputs": [
    {
     "data": {
      "text/plain": [
       "(0.9997787475585938, 0.9103104472160339)"
      ]
     },
     "execution_count": 93,
     "metadata": {},
     "output_type": "execute_result"
    }
   ],
   "source": [
    "stats.shapiro(a) # A amostra 'a' gerada com a função rnorm1 não segue distribuição normal"
   ]
  },
  {
   "cell_type": "code",
   "execution_count": 142,
   "metadata": {
    "collapsed": false
   },
   "outputs": [
    {
     "data": {
      "image/png": "[encoded data removed]",
      "text/plain": [
       "<matplotlib.figure.Figure at 0x7f3c39948c88>"
      ]
     },
     "metadata": {},
     "output_type": "display_data"
    }
   ],
   "source": [
    "plt.hist(a, bins=20); # bins = número de barras"
   ]
  },
  {
   "cell_type": "code",
   "execution_count": 81,
   "metadata": {
    "collapsed": false
   },
   "outputs": [
    {
     "data": {
      "text/plain": [
       "[0.37083847783343948,\n",
       " -0.78280071923217687,\n",
       " 1.0618156220404718,\n",
       " 1.6200245542677063,\n",
       " -1.6053733768531879,\n",
       " 0.84874671094404963,\n",
       " 0.63947194336510282,\n",
       " -0.40813963331763503,\n",
       " -0.64691548666921683,\n",
       " 1.5375163607109439]"
      ]
     },
     "execution_count": 81,
     "metadata": {},
     "output_type": "execute_result"
    }
   ],
   "source": [
    "a = rnorm2(n) # Amostra gerada com a aproximação soma de 12 v.a.s uniformes independentes\n",
    "a[0:10]"
   ]
  },
  {
   "cell_type": "code",
   "execution_count": 82,
   "metadata": {
    "collapsed": false
   },
   "outputs": [
    {
     "data": {
      "text/plain": [
       "(0.9992765784263611, 0.03871193528175354)"
      ]
     },
     "execution_count": 82,
     "metadata": {},
     "output_type": "execute_result"
    }
   ],
   "source": [
    "stats.shapiro(a) # A amostra 'a' gerada com a função rnorm1 não segue distribuição normal"
   ]
  },
  {
   "cell_type": "code",
   "execution_count": 143,
   "metadata": {
    "collapsed": false
   },
   "outputs": [
    {
     "data": {
      "image/png": "[encoded data removed]",
      "text/plain": [
       "<matplotlib.figure.Figure at 0x7f3c39b76710>"
      ]
     },
     "metadata": {},
     "output_type": "display_data"
    }
   ],
   "source": [
    "plt.hist(a, 20);"
   ]
  },
  {
   "cell_type": "markdown",
   "metadata": {},
   "source": [
    "**b) Comparar os quantis 1%, 5%, 10%, 50%, 90%, 95% e 99% esperados da distribuição normal com os estimados.** \n",
    "```{r}\n",
    "p = c(.01, .05, .1, .5, .9, .95, .99) #   quantis 1%, 5%, 10%, 50%, 90%, 95% e 99%\n",
    "Qhat = quantile(a, p)\n",
    "Q = qnorm(p)\n",
    "round(rbind(Qhat, Q), 3)             \n",
    "\n",
    "Qhat = quantile(b, p)\n",
    "Q = qnorm(p)\n",
    "round(rbind(Qhat, Q), 3)\n",
    "```"
   ]
  },
  {
   "cell_type": "code",
   "execution_count": null,
   "metadata": {
    "collapsed": true
   },
   "outputs": [],
   "source": [
    "#https://stackoverflow.com/questions/13865596/quantile-quantile-plot-using-scipy#13865874"
   ]
  },
  {
   "cell_type": "markdown",
   "metadata": {},
   "source": [
    "**c) Gerar também uma amostra de mesmo tamanho utilizando o algoritmo de Box-Müller. Estimar os mesmos quantis anteriores nesta amostra e comparar com os resultados anteriores.**\n",
    "```{r}\n",
    "BoxMuller = function(n, mu=0, sigma=1){\n",
    "  # Polar: função que retorna dois números normais\n",
    "  Polar = function(){  # função sem argumento\n",
    "    repeat{\n",
    "      u = runif(2, -1, 1) # 2 v. uniformes U(-1,1)\n",
    "      r2 = as.numeric(u %*% u) # toma o quadrado\n",
    "      if((r2 > 0) & (r2 < 1)) break\n",
    "    } # fim do repeat\n",
    "    ff = sqrt(-2 * log(r2) / r2)\n",
    "    y = ff * u # vetor de dim 2 com var. normais padrao ind.\n",
    "    y\n",
    "  } # fim de polar\n",
    "  if(n %% 2 == 0){ # n par\n",
    "    k = n %/% 2 # pega a parte inteira da div.\n",
    "    for(ki in 1:k){\n",
    "      if(ki == 1) x = c(Polar()) else x = c(x, Polar())\n",
    "    }  # for\n",
    "  } else{ # n impar\n",
    "    k = n %/% 2\n",
    "    if(k == 0){ \n",
    "      x = Polar()[1]\n",
    "    } else{\n",
    "      for(ki in 1:k){\n",
    "        if(ki == 1) x = c(Polar()) else x = c(x, Polar())\n",
    "      } # for\n",
    "      x = c(x, Polar()[1])\n",
    "    } # else interno\n",
    "  } # else n par\n",
    "  x = x * sigma + mu  # transformar de N(0, 1) para N(mu, sigma)\n",
    "  return(x)\n",
    "} # fim de BoxMuller\n",
    "\n",
    "c = BoxMuller(n)\n",
    "head(c)\n",
    "\n",
    "Qhat = quantile(c, p)\n",
    "Q = qnorm(p)\n",
    "round(rbind(Qhat, Q), 3)    # A diferença entre os quantis teóricos e os estimados é pequena para o caso da função BoxMuller \n",
    "                            # O que indica que a amostra segue a distribuição normal.\n",
    "\n",
    "```"
   ]
  },
  {
   "cell_type": "code",
   "execution_count": 349,
   "metadata": {
    "collapsed": false
   },
   "outputs": [],
   "source": [
    "def BoxMuller(n): # Polar: função que retorna dois números normais\n",
    "    def Polar():\n",
    "        while True:\n",
    "            u = np.random.uniform(2, -1, 2) # 2 v. uniformes U(-1,1)\n",
    "            r2 = (u * u)\n",
    "            if (all(r2 > 0) & all(r2 < 1)):\n",
    "                break\n",
    "        ff = np.sqrt(-2 * np.log(r2) / r2)\n",
    "        y = ff * u # vetor de dim 2 com var. normais padrao ind.\n",
    "        return(y)\n",
    "    if(n % 2 == 0): # n par\n",
    "        k = n // 2 # pega a parte inteira da div.\n",
    "        for ki in range(1,k):\n",
    "            if (ki == 1):\n",
    "                x = Polar()\n",
    "            else:\n",
    "                x = np.concatenate(x, Polar())\n",
    "    else: # n impar\n",
    "        k = n // 2\n",
    "        if(k == 0):\n",
    "            x = Polar()[1]\n",
    "        else:\n",
    "            for ki in range(1,k):\n",
    "                if(ki == 1):\n",
    "                    x = Polar()\n",
    "                else:\n",
    "                    x = np.concatenate(x, Polar())\n",
    "        x = np.concatenate(x, (Polar()[1]))\n",
    "    x = x * sigma + mu  # transformar de N(0, 1) para N(mu, sigma)\n",
    "    return(x)\n"
   ]
  },
  {
   "cell_type": "code",
   "execution_count": 350,
   "metadata": {
    "collapsed": false
   },
   "outputs": [
    {
     "ename": "TypeError",
     "evalue": "only length-1 arrays can be converted to Python scalars",
     "output_type": "error",
     "traceback": [
      "\u001b[0;31m---------------------------------------------------------------------------\u001b[0m",
      "\u001b[0;31mTypeError\u001b[0m                                 Traceback (most recent call last)",
      "\u001b[0;32m<ipython-input-350-ec54dd817bbc>\u001b[0m in \u001b[0;36m<module>\u001b[0;34m()\u001b[0m\n\u001b[0;32m----> 1\u001b[0;31m \u001b[0mBoxMuller\u001b[0m\u001b[0;34m(\u001b[0m\u001b[0;36m8\u001b[0m\u001b[0;34m)\u001b[0m\u001b[0;34m\u001b[0m\u001b[0m\n\u001b[0m",
      "\u001b[0;32m<ipython-input-349-bde0ed39c5b4>\u001b[0m in \u001b[0;36mBoxMuller\u001b[0;34m(n)\u001b[0m\n\u001b[1;32m     15\u001b[0m                 \u001b[0mx\u001b[0m \u001b[0;34m=\u001b[0m \u001b[0mPolar\u001b[0m\u001b[0;34m(\u001b[0m\u001b[0;34m)\u001b[0m\u001b[0;34m\u001b[0m\u001b[0m\n\u001b[1;32m     16\u001b[0m             \u001b[0;32melse\u001b[0m\u001b[0;34m:\u001b[0m\u001b[0;34m\u001b[0m\u001b[0m\n\u001b[0;32m---> 17\u001b[0;31m                 \u001b[0mx\u001b[0m \u001b[0;34m=\u001b[0m \u001b[0mnp\u001b[0m\u001b[0;34m.\u001b[0m\u001b[0mconcatenate\u001b[0m\u001b[0;34m(\u001b[0m\u001b[0mx\u001b[0m\u001b[0;34m,\u001b[0m \u001b[0mPolar\u001b[0m\u001b[0;34m(\u001b[0m\u001b[0;34m)\u001b[0m\u001b[0;34m)\u001b[0m\u001b[0;34m\u001b[0m\u001b[0m\n\u001b[0m\u001b[1;32m     18\u001b[0m     \u001b[0;32melse\u001b[0m\u001b[0;34m:\u001b[0m \u001b[0;31m# n impar\u001b[0m\u001b[0;34m\u001b[0m\u001b[0m\n\u001b[1;32m     19\u001b[0m         \u001b[0mk\u001b[0m \u001b[0;34m=\u001b[0m \u001b[0mn\u001b[0m \u001b[0;34m//\u001b[0m \u001b[0;36m2\u001b[0m\u001b[0;34m\u001b[0m\u001b[0m\n",
      "\u001b[0;31mTypeError\u001b[0m: only length-1 arrays can be converted to Python scalars"
     ]
    }
   ],
   "source": [
    "BoxMuller(8)"
   ]
  },
  {
   "cell_type": "code",
   "execution_count": null,
   "metadata": {
    "collapsed": true
   },
   "outputs": [],
   "source": []
  },
  {
   "cell_type": "markdown",
   "metadata": {},
   "source": [
    "**d) Gerar três QQ plots na mesma visualização para comparar o ajuste à normal das amostras geradas pelas diferentes funções**\n",
    "```{r}\n",
    "\n",
    "par(mfrow=c(1,3))\n",
    "\n",
    "qqnorm(a)\n",
    "qqline(a, col = \"red\") # qqplot convirma quq a amostra gerada pela função rnorm1 não segue a distribuição normal\n",
    "\n",
    "qqnorm(b)\n",
    "qqline(b, col = \"red\") # qqplot convirma quq a amostra gerada pela função rnorm2 segue a distribuição normal\n",
    "\n",
    "qqnorm(c)\n",
    "qqline(c, col = \"red\") # qqplot convirma quq a amostra gerada pela função BoxMuller segue a distribuição normal\n",
    "\n",
    "```"
   ]
  }
 ],
 "metadata": {
  "kernelspec": {
   "display_name": "Python [Root]",
   "language": "python",
   "name": "Python [Root]"
  },
  "language_info": {
   "codemirror_mode": {
    "name": "ipython",
    "version": 3
   },
   "file_extension": ".py",
   "mimetype": "text/x-python",
   "name": "python",
   "nbconvert_exporter": "python",
   "pygments_lexer": "ipython3",
   "version": "3.5.2"
  }
 },
 "nbformat": 4,
 "nbformat_minor": 2
}
